{
 "cells": [
  {
   "cell_type": "markdown",
   "metadata": {},
   "source": [
    "# Проект: Spotify"
   ]
  },
  {
   "cell_type": "markdown",
   "metadata": {},
   "source": [
    "**Цель исследования:**\n",
    "\n",
    "1. Построить модель, которая сможет предсказать уровень популярности песни.\n",
    "        \n",
    "      **Ход исследования:**\n",
    "       \n",
    "      Считаю CSV-файл с данными dataset.csv с помощью библиотеки pandas и сохраню их в датафреймы. Так как о данных ничего не известно, придется изучить общую информацию о датафрейме.\n",
    "      На этапе предобработки я проверю данные на ошибки и оценю их влияние на исследование. Приведу датафреймы к исправному типу, исправив ошибки в данных. Затем приступлю к исследовательскому анализу данных, визуализирую данные и приступлю к подготовке данных в пайплайне для дальнейшего обучения моделей. Обучу 4 модели: DecisionTreeRegressor, LinearRegression, LightGBM, LogisticRegression. Узнаю какая из них лучшая. В конце напишу промежуточные выводы о том, какая модель лучше. Визуализирую важность признаков для таргета в конце и напишу общий вывод.\n",
    "      \n",
    "      Таким образом, моё исследование пройдет в тринадцать этапов:\n",
    "      \n",
    "      - Загрузка данных \n",
    "      - Предобработка данных   \n",
    "      - Исследовательский анализ данных               \n",
    "      - Подготовка данных     \n",
    "      - Обучение моделей                             \n",
    "      - Результаты обучения\n",
    "      - Важность признаков        \n",
    "      - Общий вывод"
   ]
  },
  {
   "cell_type": "markdown",
   "metadata": {},
   "source": [
    "### Описание признаков"
   ]
  },
  {
   "cell_type": "markdown",
   "metadata": {},
   "source": [
    " - Unnamed: 0 - номер строки ( нужно удалить )\n",
    " - track_id - id песни\n",
    " - artists - исполнитель песни\n",
    " - album_name - название альбома, в котором содержится данная песня\n",
    " - track_name - название песни\n",
    " - popularity - популярность песни ( насколько песня популярна от 0 до 100 )\n",
    " - duration_ms - длительность песни в миллисекундах\n",
    " - explicit - является ли песня \"откровенной\" ( ненормативная лексика, ссылки на физическое или психологическое насилие, и так далее )\n",
    " - danceability - числовое значение в диапазоне от 0,0 до 1,0, которое отражает уровень в том, что трек является танцевальным\n",
    " - energy - числовое значение в диапазоне от 0,0 до 1,0, которое отражает уровень в том, что трек является энергичным\n",
    " - key - тональность песни ( от \"До мажор\" до \"Си мажор\" )\n",
    " - loudness - числовое значение в диапазоне от -50 до 4, которое отражает уровень в том, что трек является громким    \n",
    " - mode - тип тональности ( минор или мажор )      \n",
    " - speechiness - числовое значение в диапазоне от 0,0 до 1,0, которое отражает процентное соотношение слов и инструментала в песни    \n",
    " - acousticness - числовое значение в диапазоне от 0,0 до 1,0, которое отражает уровень в том, что трек является акустическим\n",
    " - instrumentalness - насколько вероятно, что музыка не содержит вокала, произнесенного устно.\n",
    " - liveness - числовое значение в диапазоне от 0,0 до 1,0, которое отражает уровень в том, что трек является инструментальным         \n",
    " - valence - числовое значение в диапазоне от 0,0 до 1,0, которое отражает уровень в том, что трек описывает музыкальную позитивность        \n",
    " - tempo - скорость, с которой проигрывается музыкальное произведение            \n",
    " - time_signature - сколько долей содержится в каждом такте музыкального произведения   \n",
    " - track_genre - жанр песни"
   ]
  },
  {
   "cell_type": "markdown",
   "metadata": {},
   "source": [
    "# Шаг 1. Загрузка данных"
   ]
  },
  {
   "cell_type": "code",
   "execution_count": 6,
   "metadata": {},
   "outputs": [],
   "source": [
    "import seaborn as sns\n",
    "from sklearn.preprocessing import LabelEncoder\n",
    "from sklearn.neighbors import KNeighborsClassifier\n",
    "from sklearn.tree import DecisionTreeClassifier\n",
    "from sklearn.linear_model import LogisticRegression\n",
    "from sklearn.svm import SVC\n",
    "from sklearn.model_selection import GridSearchCV\n",
    "from sklearn.multiclass import OneVsRestClassifier\n",
    "from sklearn.linear_model import LinearRegression\n",
    "from sklearn.preprocessing import (\n",
    "    OneHotEncoder,\n",
    "    OrdinalEncoder, \n",
    "    StandardScaler, \n",
    "    MinMaxScaler,\n",
    "    RobustScaler,\n",
    "    PolynomialFeatures\n",
    ")\n",
    "from sklearn.model_selection import train_test_split\n",
    "import numpy as np\n",
    "import pandas as pd\n",
    "import matplotlib.pyplot as plt\n",
    "from scipy.stats import chi2_contingency\n",
    "import scipy.stats as ss\n",
    "import math as m\n",
    "from sklearn.compose import ColumnTransformer\n",
    "from sklearn.pipeline import Pipeline\n",
    "from base64 import b64encode\n",
    "from IPython.display import display, HTML\n",
    "import io\n",
    "from sklearn.pipeline import Pipeline\n",
    "from sklearn.compose import ColumnTransformer\n",
    "from sklearn.impute import SimpleImputer \n",
    "import scipy.stats as stats\n",
    "import warnings\n",
    "warnings.filterwarnings(\"ignore\")\n",
    "from pandas.plotting import scatter_matrix\n",
    "from sklearn.feature_extraction.text import TfidfVectorizer\n",
    "#from phik import phik\n",
    "from sklearn.tree import DecisionTreeRegressor\n",
    "from sklearn.model_selection import RandomizedSearchCV\n",
    "from sklearn.svm import SVR\n",
    "from numpy.random import RandomState\n",
    "import scipy.stats as st \n",
    "from sklearn.ensemble import RandomForestRegressor\n",
    "from lightgbm import LGBMRegressor\n",
    "from xgboost import XGBRegressor\n",
    "from sklearn.neighbors import KNeighborsRegressor\n",
    "from scipy.stats import randint\n",
    "import socket\n",
    "from sklearn.ensemble import GradientBoostingRegressor\n",
    "import lightgbm as lgb\n",
    "from math import sqrt\n",
    "import time\n",
    "from sklearn.metrics import (\n",
    "    accuracy_score, \n",
    "    confusion_matrix, \n",
    "    r2_score,\n",
    "    precision_score,\n",
    "    recall_score,\n",
    "    mean_absolute_error,\n",
    "    roc_auc_score,\n",
    "    f1_score,\n",
    "    make_scorer, \n",
    "    mean_squared_error    \n",
    ")\n",
    "from sklearn.preprocessing import MultiLabelBinarizer\n",
    "#import category_encoders as ce\n",
    "from scipy.sparse import hstack\n",
    "import tensorflow as tf\n",
    "from tensorflow import keras\n",
    "from tensorflow.keras.metrics import MeanAbsolutePercentageError\n",
    "from sklearn.inspection import permutation_importance\n",
    "import shap\n",
    "from scipy.sparse import csr_matrix\n",
    "from sklearn.preprocessing import FunctionTransformer\n",
    "from sklearn.base import BaseEstimator, TransformerMixin"
   ]
  },
  {
   "cell_type": "code",
   "execution_count": 7,
   "metadata": {},
   "outputs": [],
   "source": [
    "RANDOM_STATE = int('12345')"
   ]
  },
  {
   "cell_type": "code",
   "execution_count": 8,
   "metadata": {},
   "outputs": [],
   "source": [
    "try:\n",
    "    data = pd.read_csv(r'dataset.csv')\n",
    "except:\n",
    "    data = pd.read_csv(r'C:\\Users\\semos\\Downloads\\dataset.csv')"
   ]
  },
  {
   "cell_type": "code",
   "execution_count": 9,
   "metadata": {},
   "outputs": [],
   "source": [
    "pd.set_option('display.max_columns', None)\n",
    "pd.set_option('display.max_rows', None)"
   ]
  },
  {
   "cell_type": "code",
   "execution_count": 10,
   "metadata": {},
   "outputs": [
    {
     "data": {
      "text/html": [
       "<div>\n",
       "<style scoped>\n",
       "    .dataframe tbody tr th:only-of-type {\n",
       "        vertical-align: middle;\n",
       "    }\n",
       "\n",
       "    .dataframe tbody tr th {\n",
       "        vertical-align: top;\n",
       "    }\n",
       "\n",
       "    .dataframe thead th {\n",
       "        text-align: right;\n",
       "    }\n",
       "</style>\n",
       "<table border=\"1\" class=\"dataframe\">\n",
       "  <thead>\n",
       "    <tr style=\"text-align: right;\">\n",
       "      <th></th>\n",
       "      <th>Unnamed: 0</th>\n",
       "      <th>track_id</th>\n",
       "      <th>artists</th>\n",
       "      <th>album_name</th>\n",
       "      <th>track_name</th>\n",
       "      <th>popularity</th>\n",
       "      <th>duration_ms</th>\n",
       "      <th>explicit</th>\n",
       "      <th>danceability</th>\n",
       "      <th>energy</th>\n",
       "      <th>key</th>\n",
       "      <th>loudness</th>\n",
       "      <th>mode</th>\n",
       "      <th>speechiness</th>\n",
       "      <th>acousticness</th>\n",
       "      <th>instrumentalness</th>\n",
       "      <th>liveness</th>\n",
       "      <th>valence</th>\n",
       "      <th>tempo</th>\n",
       "      <th>time_signature</th>\n",
       "      <th>track_genre</th>\n",
       "    </tr>\n",
       "  </thead>\n",
       "  <tbody>\n",
       "    <tr>\n",
       "      <th>46835</th>\n",
       "      <td>46835</td>\n",
       "      <td>7CFRxAfwJs3OjZ18edLEZ9</td>\n",
       "      <td>Dj Mad Dog</td>\n",
       "      <td>Till I Die Vol.1</td>\n",
       "      <td>1996 - Radio Edit</td>\n",
       "      <td>17</td>\n",
       "      <td>210100</td>\n",
       "      <td>False</td>\n",
       "      <td>0.448</td>\n",
       "      <td>0.996</td>\n",
       "      <td>7</td>\n",
       "      <td>-0.871</td>\n",
       "      <td>1</td>\n",
       "      <td>0.108</td>\n",
       "      <td>0.139</td>\n",
       "      <td>0.0284</td>\n",
       "      <td>0.358</td>\n",
       "      <td>0.288</td>\n",
       "      <td>174.054</td>\n",
       "      <td>4</td>\n",
       "      <td>happy</td>\n",
       "    </tr>\n",
       "  </tbody>\n",
       "</table>\n",
       "</div>"
      ],
      "text/plain": [
       "       Unnamed: 0                track_id     artists        album_name  \\\n",
       "46835       46835  7CFRxAfwJs3OjZ18edLEZ9  Dj Mad Dog  Till I Die Vol.1   \n",
       "\n",
       "              track_name  popularity  duration_ms  explicit  danceability  \\\n",
       "46835  1996 - Radio Edit          17       210100     False         0.448   \n",
       "\n",
       "       energy  key  loudness  mode  speechiness  acousticness  \\\n",
       "46835   0.996    7    -0.871     1        0.108         0.139   \n",
       "\n",
       "       instrumentalness  liveness  valence    tempo  time_signature  \\\n",
       "46835            0.0284     0.358    0.288  174.054               4   \n",
       "\n",
       "      track_genre  \n",
       "46835       happy  "
      ]
     },
     "execution_count": 10,
     "metadata": {},
     "output_type": "execute_result"
    }
   ],
   "source": [
    "data.sample()"
   ]
  },
  {
   "cell_type": "code",
   "execution_count": 11,
   "metadata": {},
   "outputs": [
    {
     "name": "stdout",
     "output_type": "stream",
     "text": [
      "<class 'pandas.core.frame.DataFrame'>\n",
      "RangeIndex: 114000 entries, 0 to 113999\n",
      "Data columns (total 21 columns):\n",
      " #   Column            Non-Null Count   Dtype  \n",
      "---  ------            --------------   -----  \n",
      " 0   Unnamed: 0        114000 non-null  int64  \n",
      " 1   track_id          114000 non-null  object \n",
      " 2   artists           113999 non-null  object \n",
      " 3   album_name        113999 non-null  object \n",
      " 4   track_name        113999 non-null  object \n",
      " 5   popularity        114000 non-null  int64  \n",
      " 6   duration_ms       114000 non-null  int64  \n",
      " 7   explicit          114000 non-null  bool   \n",
      " 8   danceability      114000 non-null  float64\n",
      " 9   energy            114000 non-null  float64\n",
      " 10  key               114000 non-null  int64  \n",
      " 11  loudness          114000 non-null  float64\n",
      " 12  mode              114000 non-null  int64  \n",
      " 13  speechiness       114000 non-null  float64\n",
      " 14  acousticness      114000 non-null  float64\n",
      " 15  instrumentalness  114000 non-null  float64\n",
      " 16  liveness          114000 non-null  float64\n",
      " 17  valence           114000 non-null  float64\n",
      " 18  tempo             114000 non-null  float64\n",
      " 19  time_signature    114000 non-null  int64  \n",
      " 20  track_genre       114000 non-null  object \n",
      "dtypes: bool(1), float64(9), int64(6), object(5)\n",
      "memory usage: 17.5+ MB\n"
     ]
    }
   ],
   "source": [
    "data.info()"
   ]
  },
  {
   "cell_type": "code",
   "execution_count": 12,
   "metadata": {},
   "outputs": [
    {
     "data": {
      "text/html": [
       "<div>\n",
       "<style scoped>\n",
       "    .dataframe tbody tr th:only-of-type {\n",
       "        vertical-align: middle;\n",
       "    }\n",
       "\n",
       "    .dataframe tbody tr th {\n",
       "        vertical-align: top;\n",
       "    }\n",
       "\n",
       "    .dataframe thead th {\n",
       "        text-align: right;\n",
       "    }\n",
       "</style>\n",
       "<table border=\"1\" class=\"dataframe\">\n",
       "  <thead>\n",
       "    <tr style=\"text-align: right;\">\n",
       "      <th></th>\n",
       "      <th>Unnamed: 0</th>\n",
       "      <th>popularity</th>\n",
       "      <th>duration_ms</th>\n",
       "      <th>danceability</th>\n",
       "      <th>energy</th>\n",
       "      <th>key</th>\n",
       "      <th>loudness</th>\n",
       "      <th>mode</th>\n",
       "      <th>speechiness</th>\n",
       "      <th>acousticness</th>\n",
       "      <th>instrumentalness</th>\n",
       "      <th>liveness</th>\n",
       "      <th>valence</th>\n",
       "      <th>tempo</th>\n",
       "      <th>time_signature</th>\n",
       "    </tr>\n",
       "  </thead>\n",
       "  <tbody>\n",
       "    <tr>\n",
       "      <th>count</th>\n",
       "      <td>114000.000000</td>\n",
       "      <td>114000.000000</td>\n",
       "      <td>1.140000e+05</td>\n",
       "      <td>114000.000000</td>\n",
       "      <td>114000.000000</td>\n",
       "      <td>114000.000000</td>\n",
       "      <td>114000.000000</td>\n",
       "      <td>114000.000000</td>\n",
       "      <td>114000.000000</td>\n",
       "      <td>114000.000000</td>\n",
       "      <td>114000.000000</td>\n",
       "      <td>114000.000000</td>\n",
       "      <td>114000.000000</td>\n",
       "      <td>114000.000000</td>\n",
       "      <td>114000.000000</td>\n",
       "    </tr>\n",
       "    <tr>\n",
       "      <th>mean</th>\n",
       "      <td>56999.500000</td>\n",
       "      <td>33.238535</td>\n",
       "      <td>2.280292e+05</td>\n",
       "      <td>0.566800</td>\n",
       "      <td>0.641383</td>\n",
       "      <td>5.309140</td>\n",
       "      <td>-8.258960</td>\n",
       "      <td>0.637553</td>\n",
       "      <td>0.084652</td>\n",
       "      <td>0.314910</td>\n",
       "      <td>0.156050</td>\n",
       "      <td>0.213553</td>\n",
       "      <td>0.474068</td>\n",
       "      <td>122.147837</td>\n",
       "      <td>3.904035</td>\n",
       "    </tr>\n",
       "    <tr>\n",
       "      <th>std</th>\n",
       "      <td>32909.109681</td>\n",
       "      <td>22.305078</td>\n",
       "      <td>1.072977e+05</td>\n",
       "      <td>0.173542</td>\n",
       "      <td>0.251529</td>\n",
       "      <td>3.559987</td>\n",
       "      <td>5.029337</td>\n",
       "      <td>0.480709</td>\n",
       "      <td>0.105732</td>\n",
       "      <td>0.332523</td>\n",
       "      <td>0.309555</td>\n",
       "      <td>0.190378</td>\n",
       "      <td>0.259261</td>\n",
       "      <td>29.978197</td>\n",
       "      <td>0.432621</td>\n",
       "    </tr>\n",
       "    <tr>\n",
       "      <th>min</th>\n",
       "      <td>0.000000</td>\n",
       "      <td>0.000000</td>\n",
       "      <td>0.000000e+00</td>\n",
       "      <td>0.000000</td>\n",
       "      <td>0.000000</td>\n",
       "      <td>0.000000</td>\n",
       "      <td>-49.531000</td>\n",
       "      <td>0.000000</td>\n",
       "      <td>0.000000</td>\n",
       "      <td>0.000000</td>\n",
       "      <td>0.000000</td>\n",
       "      <td>0.000000</td>\n",
       "      <td>0.000000</td>\n",
       "      <td>0.000000</td>\n",
       "      <td>0.000000</td>\n",
       "    </tr>\n",
       "    <tr>\n",
       "      <th>25%</th>\n",
       "      <td>28499.750000</td>\n",
       "      <td>17.000000</td>\n",
       "      <td>1.740660e+05</td>\n",
       "      <td>0.456000</td>\n",
       "      <td>0.472000</td>\n",
       "      <td>2.000000</td>\n",
       "      <td>-10.013000</td>\n",
       "      <td>0.000000</td>\n",
       "      <td>0.035900</td>\n",
       "      <td>0.016900</td>\n",
       "      <td>0.000000</td>\n",
       "      <td>0.098000</td>\n",
       "      <td>0.260000</td>\n",
       "      <td>99.218750</td>\n",
       "      <td>4.000000</td>\n",
       "    </tr>\n",
       "    <tr>\n",
       "      <th>50%</th>\n",
       "      <td>56999.500000</td>\n",
       "      <td>35.000000</td>\n",
       "      <td>2.129060e+05</td>\n",
       "      <td>0.580000</td>\n",
       "      <td>0.685000</td>\n",
       "      <td>5.000000</td>\n",
       "      <td>-7.004000</td>\n",
       "      <td>1.000000</td>\n",
       "      <td>0.048900</td>\n",
       "      <td>0.169000</td>\n",
       "      <td>0.000042</td>\n",
       "      <td>0.132000</td>\n",
       "      <td>0.464000</td>\n",
       "      <td>122.017000</td>\n",
       "      <td>4.000000</td>\n",
       "    </tr>\n",
       "    <tr>\n",
       "      <th>75%</th>\n",
       "      <td>85499.250000</td>\n",
       "      <td>50.000000</td>\n",
       "      <td>2.615060e+05</td>\n",
       "      <td>0.695000</td>\n",
       "      <td>0.854000</td>\n",
       "      <td>8.000000</td>\n",
       "      <td>-5.003000</td>\n",
       "      <td>1.000000</td>\n",
       "      <td>0.084500</td>\n",
       "      <td>0.598000</td>\n",
       "      <td>0.049000</td>\n",
       "      <td>0.273000</td>\n",
       "      <td>0.683000</td>\n",
       "      <td>140.071000</td>\n",
       "      <td>4.000000</td>\n",
       "    </tr>\n",
       "    <tr>\n",
       "      <th>max</th>\n",
       "      <td>113999.000000</td>\n",
       "      <td>100.000000</td>\n",
       "      <td>5.237295e+06</td>\n",
       "      <td>0.985000</td>\n",
       "      <td>1.000000</td>\n",
       "      <td>11.000000</td>\n",
       "      <td>4.532000</td>\n",
       "      <td>1.000000</td>\n",
       "      <td>0.965000</td>\n",
       "      <td>0.996000</td>\n",
       "      <td>1.000000</td>\n",
       "      <td>1.000000</td>\n",
       "      <td>0.995000</td>\n",
       "      <td>243.372000</td>\n",
       "      <td>5.000000</td>\n",
       "    </tr>\n",
       "  </tbody>\n",
       "</table>\n",
       "</div>"
      ],
      "text/plain": [
       "          Unnamed: 0     popularity   duration_ms   danceability  \\\n",
       "count  114000.000000  114000.000000  1.140000e+05  114000.000000   \n",
       "mean    56999.500000      33.238535  2.280292e+05       0.566800   \n",
       "std     32909.109681      22.305078  1.072977e+05       0.173542   \n",
       "min         0.000000       0.000000  0.000000e+00       0.000000   \n",
       "25%     28499.750000      17.000000  1.740660e+05       0.456000   \n",
       "50%     56999.500000      35.000000  2.129060e+05       0.580000   \n",
       "75%     85499.250000      50.000000  2.615060e+05       0.695000   \n",
       "max    113999.000000     100.000000  5.237295e+06       0.985000   \n",
       "\n",
       "              energy            key       loudness           mode  \\\n",
       "count  114000.000000  114000.000000  114000.000000  114000.000000   \n",
       "mean        0.641383       5.309140      -8.258960       0.637553   \n",
       "std         0.251529       3.559987       5.029337       0.480709   \n",
       "min         0.000000       0.000000     -49.531000       0.000000   \n",
       "25%         0.472000       2.000000     -10.013000       0.000000   \n",
       "50%         0.685000       5.000000      -7.004000       1.000000   \n",
       "75%         0.854000       8.000000      -5.003000       1.000000   \n",
       "max         1.000000      11.000000       4.532000       1.000000   \n",
       "\n",
       "         speechiness   acousticness  instrumentalness       liveness  \\\n",
       "count  114000.000000  114000.000000     114000.000000  114000.000000   \n",
       "mean        0.084652       0.314910          0.156050       0.213553   \n",
       "std         0.105732       0.332523          0.309555       0.190378   \n",
       "min         0.000000       0.000000          0.000000       0.000000   \n",
       "25%         0.035900       0.016900          0.000000       0.098000   \n",
       "50%         0.048900       0.169000          0.000042       0.132000   \n",
       "75%         0.084500       0.598000          0.049000       0.273000   \n",
       "max         0.965000       0.996000          1.000000       1.000000   \n",
       "\n",
       "             valence          tempo  time_signature  \n",
       "count  114000.000000  114000.000000   114000.000000  \n",
       "mean        0.474068     122.147837        3.904035  \n",
       "std         0.259261      29.978197        0.432621  \n",
       "min         0.000000       0.000000        0.000000  \n",
       "25%         0.260000      99.218750        4.000000  \n",
       "50%         0.464000     122.017000        4.000000  \n",
       "75%         0.683000     140.071000        4.000000  \n",
       "max         0.995000     243.372000        5.000000  "
      ]
     },
     "execution_count": 12,
     "metadata": {},
     "output_type": "execute_result"
    }
   ],
   "source": [
    "data.describe()"
   ]
  },
  {
   "cell_type": "code",
   "execution_count": 13,
   "metadata": {},
   "outputs": [
    {
     "data": {
      "text/plain": [
       "0"
      ]
     },
     "execution_count": 13,
     "metadata": {},
     "output_type": "execute_result"
    }
   ],
   "source": [
    "data.duplicated().sum()"
   ]
  },
  {
   "cell_type": "code",
   "execution_count": 14,
   "metadata": {},
   "outputs": [
    {
     "data": {
      "image/png": "[encoded data removed]",
      "text/plain": [
       "<Figure size 500x500 with 1 Axes>"
      ]
     },
     "metadata": {},
     "output_type": "display_data"
    }
   ],
   "source": [
    "data['popularity'].hist(figsize = (5,5));"
   ]
  },
  {
   "cell_type": "code",
   "execution_count": 15,
   "metadata": {},
   "outputs": [
    {
     "data": {
      "image/png": "[encoded data removed]",
      "text/plain": [
       "<Figure size 500x500 with 1 Axes>"
      ]
     },
     "metadata": {},
     "output_type": "display_data"
    }
   ],
   "source": [
    "plt.figure(figsize=(5, 5))\n",
    "plt.boxplot(data['popularity']);"
   ]
  },
  {
   "cell_type": "code",
   "execution_count": 16,
   "metadata": {},
   "outputs": [
    {
     "data": {
      "text/plain": [
       "popularity\n",
       "0     16020\n",
       "22     2354\n",
       "Name: count, dtype: int64"
      ]
     },
     "execution_count": 16,
     "metadata": {},
     "output_type": "execute_result"
    }
   ],
   "source": [
    "data['popularity'].value_counts().head(2)"
   ]
  },
  {
   "cell_type": "code",
   "execution_count": 17,
   "metadata": {},
   "outputs": [
    {
     "data": {
      "text/plain": [
       "popularity\n",
       "100    2\n",
       "99     1\n",
       "Name: count, dtype: int64"
      ]
     },
     "execution_count": 17,
     "metadata": {},
     "output_type": "execute_result"
    }
   ],
   "source": [
    "data['popularity'].value_counts().tail(2)"
   ]
  },
  {
   "cell_type": "code",
   "execution_count": 18,
   "metadata": {},
   "outputs": [
    {
     "data": {
      "text/plain": [
       "array([  0,   1,   2,   3,   4,   5,   6,   7,   8,   9,  10,  11,  12,\n",
       "        13,  14,  15,  16,  17,  18,  19,  20,  21,  22,  23,  24,  25,\n",
       "        26,  27,  28,  29,  30,  31,  32,  33,  34,  35,  36,  37,  38,\n",
       "        39,  40,  41,  42,  43,  44,  45,  46,  47,  48,  49,  50,  51,\n",
       "        52,  53,  54,  55,  56,  57,  58,  59,  60,  61,  62,  63,  64,\n",
       "        65,  66,  67,  68,  69,  70,  71,  72,  73,  74,  75,  76,  77,\n",
       "        78,  79,  80,  81,  82,  83,  84,  85,  86,  87,  88,  89,  90,\n",
       "        91,  92,  93,  94,  95,  96,  97,  98,  99, 100], dtype=int64)"
      ]
     },
     "execution_count": 18,
     "metadata": {},
     "output_type": "execute_result"
    }
   ],
   "source": [
    "np.sort(data['popularity'].unique())"
   ]
  },
  {
   "cell_type": "code",
   "execution_count": 19,
   "metadata": {},
   "outputs": [
    {
     "data": {
      "text/plain": [
       "Unnamed: 0          0\n",
       "track_id            0\n",
       "artists             1\n",
       "album_name          1\n",
       "track_name          1\n",
       "popularity          0\n",
       "duration_ms         0\n",
       "explicit            0\n",
       "danceability        0\n",
       "energy              0\n",
       "key                 0\n",
       "loudness            0\n",
       "mode                0\n",
       "speechiness         0\n",
       "acousticness        0\n",
       "instrumentalness    0\n",
       "liveness            0\n",
       "valence             0\n",
       "tempo               0\n",
       "time_signature      0\n",
       "track_genre         0\n",
       "dtype: int64"
      ]
     },
     "execution_count": 19,
     "metadata": {},
     "output_type": "execute_result"
    }
   ],
   "source": [
    "data.isnull().sum()"
   ]
  },
  {
   "cell_type": "code",
   "execution_count": 20,
   "metadata": {},
   "outputs": [
    {
     "data": {
      "text/html": [
       "<div>\n",
       "<style scoped>\n",
       "    .dataframe tbody tr th:only-of-type {\n",
       "        vertical-align: middle;\n",
       "    }\n",
       "\n",
       "    .dataframe tbody tr th {\n",
       "        vertical-align: top;\n",
       "    }\n",
       "\n",
       "    .dataframe thead th {\n",
       "        text-align: right;\n",
       "    }\n",
       "</style>\n",
       "<table border=\"1\" class=\"dataframe\">\n",
       "  <thead>\n",
       "    <tr style=\"text-align: right;\">\n",
       "      <th></th>\n",
       "      <th>Unnamed: 0</th>\n",
       "      <th>track_id</th>\n",
       "      <th>artists</th>\n",
       "      <th>album_name</th>\n",
       "      <th>track_name</th>\n",
       "      <th>popularity</th>\n",
       "      <th>duration_ms</th>\n",
       "      <th>explicit</th>\n",
       "      <th>danceability</th>\n",
       "      <th>energy</th>\n",
       "      <th>key</th>\n",
       "      <th>loudness</th>\n",
       "      <th>mode</th>\n",
       "      <th>speechiness</th>\n",
       "      <th>acousticness</th>\n",
       "      <th>instrumentalness</th>\n",
       "      <th>liveness</th>\n",
       "      <th>valence</th>\n",
       "      <th>tempo</th>\n",
       "      <th>time_signature</th>\n",
       "      <th>track_genre</th>\n",
       "    </tr>\n",
       "  </thead>\n",
       "  <tbody>\n",
       "    <tr>\n",
       "      <th>65900</th>\n",
       "      <td>65900</td>\n",
       "      <td>1kR4gIb7nGxHPI3D2ifs59</td>\n",
       "      <td>NaN</td>\n",
       "      <td>NaN</td>\n",
       "      <td>NaN</td>\n",
       "      <td>0</td>\n",
       "      <td>0</td>\n",
       "      <td>False</td>\n",
       "      <td>0.501</td>\n",
       "      <td>0.583</td>\n",
       "      <td>7</td>\n",
       "      <td>-9.46</td>\n",
       "      <td>0</td>\n",
       "      <td>0.0605</td>\n",
       "      <td>0.69</td>\n",
       "      <td>0.00396</td>\n",
       "      <td>0.0747</td>\n",
       "      <td>0.734</td>\n",
       "      <td>138.391</td>\n",
       "      <td>4</td>\n",
       "      <td>k-pop</td>\n",
       "    </tr>\n",
       "  </tbody>\n",
       "</table>\n",
       "</div>"
      ],
      "text/plain": [
       "       Unnamed: 0                track_id artists album_name track_name  \\\n",
       "65900       65900  1kR4gIb7nGxHPI3D2ifs59     NaN        NaN        NaN   \n",
       "\n",
       "       popularity  duration_ms  explicit  danceability  energy  key  loudness  \\\n",
       "65900           0            0     False         0.501   0.583    7     -9.46   \n",
       "\n",
       "       mode  speechiness  acousticness  instrumentalness  liveness  valence  \\\n",
       "65900     0       0.0605          0.69           0.00396    0.0747    0.734   \n",
       "\n",
       "         tempo  time_signature track_genre  \n",
       "65900  138.391               4       k-pop  "
      ]
     },
     "execution_count": 20,
     "metadata": {},
     "output_type": "execute_result"
    }
   ],
   "source": [
    "data[data['artists'].isnull()]"
   ]
  },
  {
   "cell_type": "code",
   "execution_count": 21,
   "metadata": {},
   "outputs": [
    {
     "data": {
      "text/plain": [
       "(114000, 21)"
      ]
     },
     "execution_count": 21,
     "metadata": {},
     "output_type": "execute_result"
    }
   ],
   "source": [
    "data.shape"
   ]
  },
  {
   "cell_type": "markdown",
   "metadata": {},
   "source": [
    "<div class=\"alert alert-success\">\n",
    "Считали файл `dataset.csv`. Обнаружили 3 пропущенных значения в данных в столбцах `artists`, `album_name`, `track_name`, которые мы удалим. Проанализировали целевой признак `popularity`: большинство значений находятся в диапозоне 18-50, 16000 нулевых значений ( скорее всего, это не аномалия, а просто неактуальные песни ) и несколько значений 98-100. Явных дубликатов не обнаружили. Стоит удалить признак `Unnamed: 0`, так как он является номером каждой строки, а затем посмотреть на наличие дуюликатов.\n",
    "</div>"
   ]
  },
  {
   "cell_type": "markdown",
   "metadata": {},
   "source": [
    "# Шаг 2. Предобработка данных"
   ]
  },
  {
   "cell_type": "code",
   "execution_count": 24,
   "metadata": {},
   "outputs": [],
   "source": [
    "data_new = data.dropna()"
   ]
  },
  {
   "cell_type": "code",
   "execution_count": 25,
   "metadata": {},
   "outputs": [
    {
     "data": {
      "text/plain": [
       "Unnamed: 0          0\n",
       "track_id            0\n",
       "artists             0\n",
       "album_name          0\n",
       "track_name          0\n",
       "popularity          0\n",
       "duration_ms         0\n",
       "explicit            0\n",
       "danceability        0\n",
       "energy              0\n",
       "key                 0\n",
       "loudness            0\n",
       "mode                0\n",
       "speechiness         0\n",
       "acousticness        0\n",
       "instrumentalness    0\n",
       "liveness            0\n",
       "valence             0\n",
       "tempo               0\n",
       "time_signature      0\n",
       "track_genre         0\n",
       "dtype: int64"
      ]
     },
     "execution_count": 25,
     "metadata": {},
     "output_type": "execute_result"
    }
   ],
   "source": [
    "data_new.isnull().sum()"
   ]
  },
  {
   "cell_type": "markdown",
   "metadata": {},
   "source": [
    "<div class=\"alert alert-success\">\n",
    "Удалили пропущенные значения.\n",
    "</div>"
   ]
  },
  {
   "cell_type": "code",
   "execution_count": 27,
   "metadata": {},
   "outputs": [],
   "source": [
    "data_new = data_new.drop('Unnamed: 0', axis = 1)"
   ]
  },
  {
   "cell_type": "markdown",
   "metadata": {},
   "source": [
    "<div class=\"alert alert-success\">\n",
    "Удалили ненужный признак Unnamed: 0\n",
    "</div>"
   ]
  },
  {
   "cell_type": "code",
   "execution_count": 29,
   "metadata": {},
   "outputs": [
    {
     "data": {
      "text/plain": [
       "450"
      ]
     },
     "execution_count": 29,
     "metadata": {},
     "output_type": "execute_result"
    }
   ],
   "source": [
    "data_new.duplicated().sum()"
   ]
  },
  {
   "cell_type": "code",
   "execution_count": 30,
   "metadata": {},
   "outputs": [],
   "source": [
    "data_new = data_new.drop_duplicates()"
   ]
  },
  {
   "cell_type": "markdown",
   "metadata": {},
   "source": [
    "<div class=\"alert alert-success\">\n",
    "Удалили все явные дубликаты.\n",
    "</div>"
   ]
  },
  {
   "cell_type": "code",
   "execution_count": 32,
   "metadata": {},
   "outputs": [
    {
     "data": {
      "text/plain": [
       "0"
      ]
     },
     "execution_count": 32,
     "metadata": {},
     "output_type": "execute_result"
    }
   ],
   "source": [
    "data_new.duplicated().sum()"
   ]
  },
  {
   "cell_type": "code",
   "execution_count": 33,
   "metadata": {},
   "outputs": [
    {
     "data": {
      "text/html": [
       "<div>\n",
       "<style scoped>\n",
       "    .dataframe tbody tr th:only-of-type {\n",
       "        vertical-align: middle;\n",
       "    }\n",
       "\n",
       "    .dataframe tbody tr th {\n",
       "        vertical-align: top;\n",
       "    }\n",
       "\n",
       "    .dataframe thead th {\n",
       "        text-align: right;\n",
       "    }\n",
       "</style>\n",
       "<table border=\"1\" class=\"dataframe\">\n",
       "  <thead>\n",
       "    <tr style=\"text-align: right;\">\n",
       "      <th></th>\n",
       "      <th>track_id</th>\n",
       "      <th>artists</th>\n",
       "      <th>album_name</th>\n",
       "      <th>track_name</th>\n",
       "      <th>popularity</th>\n",
       "      <th>duration_ms</th>\n",
       "      <th>explicit</th>\n",
       "      <th>danceability</th>\n",
       "      <th>energy</th>\n",
       "      <th>key</th>\n",
       "      <th>loudness</th>\n",
       "      <th>mode</th>\n",
       "      <th>speechiness</th>\n",
       "      <th>acousticness</th>\n",
       "      <th>instrumentalness</th>\n",
       "      <th>liveness</th>\n",
       "      <th>valence</th>\n",
       "      <th>tempo</th>\n",
       "      <th>time_signature</th>\n",
       "      <th>track_genre</th>\n",
       "    </tr>\n",
       "  </thead>\n",
       "  <tbody>\n",
       "    <tr>\n",
       "      <th>20008</th>\n",
       "      <td>4uUG5RXrOk84mYEfFvj3cK</td>\n",
       "      <td>David Guetta;Bebe Rexha</td>\n",
       "      <td>I'm Good (Blue)</td>\n",
       "      <td>I'm Good (Blue)</td>\n",
       "      <td>98</td>\n",
       "      <td>175238</td>\n",
       "      <td>True</td>\n",
       "      <td>0.561</td>\n",
       "      <td>0.965</td>\n",
       "      <td>7</td>\n",
       "      <td>-3.673</td>\n",
       "      <td>0</td>\n",
       "      <td>0.0343</td>\n",
       "      <td>0.00383</td>\n",
       "      <td>0.000007</td>\n",
       "      <td>0.371</td>\n",
       "      <td>0.304</td>\n",
       "      <td>128.04</td>\n",
       "      <td>4</td>\n",
       "      <td>dance</td>\n",
       "    </tr>\n",
       "    <tr>\n",
       "      <th>30003</th>\n",
       "      <td>4uUG5RXrOk84mYEfFvj3cK</td>\n",
       "      <td>David Guetta;Bebe Rexha</td>\n",
       "      <td>I'm Good (Blue)</td>\n",
       "      <td>I'm Good (Blue)</td>\n",
       "      <td>98</td>\n",
       "      <td>175238</td>\n",
       "      <td>True</td>\n",
       "      <td>0.561</td>\n",
       "      <td>0.965</td>\n",
       "      <td>7</td>\n",
       "      <td>-3.673</td>\n",
       "      <td>0</td>\n",
       "      <td>0.0343</td>\n",
       "      <td>0.00383</td>\n",
       "      <td>0.000007</td>\n",
       "      <td>0.371</td>\n",
       "      <td>0.304</td>\n",
       "      <td>128.04</td>\n",
       "      <td>4</td>\n",
       "      <td>edm</td>\n",
       "    </tr>\n",
       "  </tbody>\n",
       "</table>\n",
       "</div>"
      ],
      "text/plain": [
       "                     track_id                  artists       album_name  \\\n",
       "20008  4uUG5RXrOk84mYEfFvj3cK  David Guetta;Bebe Rexha  I'm Good (Blue)   \n",
       "30003  4uUG5RXrOk84mYEfFvj3cK  David Guetta;Bebe Rexha  I'm Good (Blue)   \n",
       "\n",
       "            track_name  popularity  duration_ms  explicit  danceability  \\\n",
       "20008  I'm Good (Blue)          98       175238      True         0.561   \n",
       "30003  I'm Good (Blue)          98       175238      True         0.561   \n",
       "\n",
       "       energy  key  loudness  mode  speechiness  acousticness  \\\n",
       "20008   0.965    7    -3.673     0       0.0343       0.00383   \n",
       "30003   0.965    7    -3.673     0       0.0343       0.00383   \n",
       "\n",
       "       instrumentalness  liveness  valence   tempo  time_signature track_genre  \n",
       "20008          0.000007     0.371    0.304  128.04               4       dance  \n",
       "30003          0.000007     0.371    0.304  128.04               4         edm  "
      ]
     },
     "execution_count": 33,
     "metadata": {},
     "output_type": "execute_result"
    }
   ],
   "source": [
    "data_new[data_new['popularity'] == 98].head(2)"
   ]
  },
  {
   "cell_type": "code",
   "execution_count": 34,
   "metadata": {},
   "outputs": [
    {
     "data": {
      "text/plain": [
       "23809"
      ]
     },
     "execution_count": 34,
     "metadata": {},
     "output_type": "execute_result"
    }
   ],
   "source": [
    "data_new['track_id'].duplicated().sum()"
   ]
  },
  {
   "cell_type": "markdown",
   "metadata": {},
   "source": [
    "<div class=\"alert alert-success\">\n",
    "Заметили, что в 23809 строках повторяются некоторые песни, у которых все признаки одинаковые, кроме жанра. Это означает, что у некоторых песен есть 2, 3 или больше жанров.\n",
    "</div>"
   ]
  },
  {
   "cell_type": "code",
   "execution_count": 36,
   "metadata": {},
   "outputs": [],
   "source": [
    "genres = data_new.groupby('track_id')['track_genre'].apply(list).reset_index()\n",
    "\n",
    "data_new_1=data_new.copy()\n",
    "\n",
    "data_new = data_new_1[['track_id', 'artists', 'album_name', 'track_name',\\\n",
    "       'popularity', 'duration_ms', 'explicit', 'danceability', 'energy',\\\n",
    "       'key', 'loudness', 'mode', 'speechiness', 'acousticness',\\\n",
    "       'instrumentalness', 'liveness', 'valence', 'tempo', 'time_signature',\\\n",
    "       ]].drop_duplicates()\n",
    "\n",
    "data_new = data_new.merge(genres,on='track_id',how='left')"
   ]
  },
  {
   "cell_type": "code",
   "execution_count": 37,
   "metadata": {},
   "outputs": [
    {
     "data": {
      "text/html": [
       "<div>\n",
       "<style scoped>\n",
       "    .dataframe tbody tr th:only-of-type {\n",
       "        vertical-align: middle;\n",
       "    }\n",
       "\n",
       "    .dataframe tbody tr th {\n",
       "        vertical-align: top;\n",
       "    }\n",
       "\n",
       "    .dataframe thead th {\n",
       "        text-align: right;\n",
       "    }\n",
       "</style>\n",
       "<table border=\"1\" class=\"dataframe\">\n",
       "  <thead>\n",
       "    <tr style=\"text-align: right;\">\n",
       "      <th></th>\n",
       "      <th>track_genre</th>\n",
       "      <th>track_id</th>\n",
       "    </tr>\n",
       "  </thead>\n",
       "  <tbody>\n",
       "    <tr>\n",
       "      <th>0</th>\n",
       "      <td>[acoustic, j-pop, singer-songwriter, songwriter]</td>\n",
       "      <td>5SuOikwiRyPMVoIQDJUgSV</td>\n",
       "    </tr>\n",
       "    <tr>\n",
       "      <th>1</th>\n",
       "      <td>[acoustic, chill]</td>\n",
       "      <td>4qPNDBW1i3p13qLCt0Ki3A</td>\n",
       "    </tr>\n",
       "    <tr>\n",
       "      <th>2</th>\n",
       "      <td>[acoustic]</td>\n",
       "      <td>1iJBSr7s7jYXzM8EGcbK5b</td>\n",
       "    </tr>\n",
       "  </tbody>\n",
       "</table>\n",
       "</div>"
      ],
      "text/plain": [
       "                                        track_genre                track_id\n",
       "0  [acoustic, j-pop, singer-songwriter, songwriter]  5SuOikwiRyPMVoIQDJUgSV\n",
       "1                                 [acoustic, chill]  4qPNDBW1i3p13qLCt0Ki3A\n",
       "2                                        [acoustic]  1iJBSr7s7jYXzM8EGcbK5b"
      ]
     },
     "execution_count": 37,
     "metadata": {},
     "output_type": "execute_result"
    }
   ],
   "source": [
    "data_new[['track_genre','track_id']].head(3)"
   ]
  },
  {
   "cell_type": "code",
   "execution_count": 38,
   "metadata": {},
   "outputs": [],
   "source": [
    "data_new['explicit'] = data_new['explicit'].astype(int)"
   ]
  },
  {
   "cell_type": "code",
   "execution_count": 39,
   "metadata": {},
   "outputs": [],
   "source": [
    "data_new['multi_genre'] = data_new['track_genre'].apply(lambda x: 1 if len(x) > 1 else 0)"
   ]
  },
  {
   "cell_type": "code",
   "execution_count": 40,
   "metadata": {},
   "outputs": [
    {
     "data": {
      "text/plain": [
       "(114000, 21)"
      ]
     },
     "execution_count": 40,
     "metadata": {},
     "output_type": "execute_result"
    }
   ],
   "source": [
    "data.shape"
   ]
  },
  {
   "cell_type": "code",
   "execution_count": 41,
   "metadata": {},
   "outputs": [
    {
     "data": {
      "text/plain": [
       "(90460, 21)"
      ]
     },
     "execution_count": 41,
     "metadata": {},
     "output_type": "execute_result"
    }
   ],
   "source": [
    "data_new.shape"
   ]
  },
  {
   "cell_type": "markdown",
   "metadata": {},
   "source": [
    "<div class=\"alert alert-success\">\n",
    "Мы сгруппировали датасет по id каждого трека, тем самым все жанры одного трека совместили в один список, который останеться в признаке track_genre. Также создали новй признак multi_genre, который будет отвечать за мультижанровость трека (если у трека один жанр, то 0, если 2 и больше, то 1).\n",
    "</div>"
   ]
  },
  {
   "cell_type": "code",
   "execution_count": 43,
   "metadata": {},
   "outputs": [
    {
     "data": {
      "text/plain": [
       "'Процент уменьшения строк: 20.65%'"
      ]
     },
     "execution_count": 43,
     "metadata": {},
     "output_type": "execute_result"
    }
   ],
   "source": [
    "row_reduction_percentage = ((data.shape[0] - data_new.shape[0]) / data.shape[0]) * 100\n",
    "f\"Процент уменьшения строк: {row_reduction_percentage:.2f}%\""
   ]
  },
  {
   "cell_type": "markdown",
   "metadata": {},
   "source": [
    "<div class=\"alert alert-success\">\n",
    "Размер обработанного датасета data_new уменьшился в размере на 21%.\n",
    "</div>"
   ]
  },
  {
   "cell_type": "markdown",
   "metadata": {},
   "source": [
    "# Шаг 3. Исследовательский анализ данных"
   ]
  },
  {
   "cell_type": "code",
   "execution_count": 46,
   "metadata": {},
   "outputs": [],
   "source": [
    "def plot_hist_box(df, column, hist_title=None, box_title=None):\n",
    "    fig, axes = plt.subplots(1, 2, figsize=(10, 4))\n",
    "    \n",
    "    sns.histplot(data=df[column], ax=axes[0])\n",
    "    if hist_title is not None:\n",
    "        axes[0].set_title(hist_title)\n",
    "\n",
    "    sns.boxplot(data=df[column], ax=axes[1])\n",
    "    if box_title is not None:\n",
    "        axes[1].set_title(box_title)\n",
    "        \n",
    "    plt.show()"
   ]
  },
  {
   "cell_type": "markdown",
   "metadata": {},
   "source": [
    "<div class=\"alert alert-success\">\n",
    "Написали функцию для визуализации количественных признаков при помощи гистограммы и боксплота.\n",
    "</div>"
   ]
  },
  {
   "cell_type": "code",
   "execution_count": 48,
   "metadata": {},
   "outputs": [
    {
     "data": {
      "text/html": [
       "<div>\n",
       "<style scoped>\n",
       "    .dataframe tbody tr th:only-of-type {\n",
       "        vertical-align: middle;\n",
       "    }\n",
       "\n",
       "    .dataframe tbody tr th {\n",
       "        vertical-align: top;\n",
       "    }\n",
       "\n",
       "    .dataframe thead th {\n",
       "        text-align: right;\n",
       "    }\n",
       "</style>\n",
       "<table border=\"1\" class=\"dataframe\">\n",
       "  <thead>\n",
       "    <tr style=\"text-align: right;\">\n",
       "      <th></th>\n",
       "      <th>track_id</th>\n",
       "      <th>artists</th>\n",
       "      <th>album_name</th>\n",
       "      <th>track_name</th>\n",
       "      <th>popularity</th>\n",
       "      <th>duration_ms</th>\n",
       "      <th>explicit</th>\n",
       "      <th>danceability</th>\n",
       "      <th>energy</th>\n",
       "      <th>key</th>\n",
       "      <th>loudness</th>\n",
       "      <th>mode</th>\n",
       "      <th>speechiness</th>\n",
       "      <th>acousticness</th>\n",
       "      <th>instrumentalness</th>\n",
       "      <th>liveness</th>\n",
       "      <th>valence</th>\n",
       "      <th>tempo</th>\n",
       "      <th>time_signature</th>\n",
       "      <th>track_genre</th>\n",
       "      <th>multi_genre</th>\n",
       "    </tr>\n",
       "  </thead>\n",
       "  <tbody>\n",
       "    <tr>\n",
       "      <th>0</th>\n",
       "      <td>5SuOikwiRyPMVoIQDJUgSV</td>\n",
       "      <td>Gen Hoshino</td>\n",
       "      <td>Comedy</td>\n",
       "      <td>Comedy</td>\n",
       "      <td>73</td>\n",
       "      <td>230666</td>\n",
       "      <td>0</td>\n",
       "      <td>0.676</td>\n",
       "      <td>0.461</td>\n",
       "      <td>1</td>\n",
       "      <td>-6.746</td>\n",
       "      <td>0</td>\n",
       "      <td>0.143</td>\n",
       "      <td>0.0322</td>\n",
       "      <td>0.000001</td>\n",
       "      <td>0.358</td>\n",
       "      <td>0.715</td>\n",
       "      <td>87.917</td>\n",
       "      <td>4</td>\n",
       "      <td>[acoustic, j-pop, singer-songwriter, songwriter]</td>\n",
       "      <td>1</td>\n",
       "    </tr>\n",
       "  </tbody>\n",
       "</table>\n",
       "</div>"
      ],
      "text/plain": [
       "                 track_id      artists album_name track_name  popularity  \\\n",
       "0  5SuOikwiRyPMVoIQDJUgSV  Gen Hoshino     Comedy     Comedy          73   \n",
       "\n",
       "   duration_ms  explicit  danceability  energy  key  loudness  mode  \\\n",
       "0       230666         0         0.676   0.461    1    -6.746     0   \n",
       "\n",
       "   speechiness  acousticness  instrumentalness  liveness  valence   tempo  \\\n",
       "0        0.143        0.0322          0.000001     0.358    0.715  87.917   \n",
       "\n",
       "   time_signature                                       track_genre  \\\n",
       "0               4  [acoustic, j-pop, singer-songwriter, songwriter]   \n",
       "\n",
       "   multi_genre  \n",
       "0            1  "
      ]
     },
     "execution_count": 48,
     "metadata": {},
     "output_type": "execute_result"
    }
   ],
   "source": [
    "data_new.head(1)"
   ]
  },
  {
   "cell_type": "code",
   "execution_count": 49,
   "metadata": {},
   "outputs": [
    {
     "data": {
      "image/png": "[encoded data removed]",
      "text/plain": [
       "<Figure size 1000x400 with 2 Axes>"
      ]
     },
     "metadata": {},
     "output_type": "display_data"
    }
   ],
   "source": [
    "plot_hist_box(data_new, 'duration_ms', '''Распределение значений\n",
    "длительности песни''', '''Распределение значений \n",
    "длительности песни (ящик с усами)''')"
   ]
  },
  {
   "cell_type": "markdown",
   "metadata": {},
   "source": [
    "<div class=\"alert alert-success\">\n",
    "Все аномальные значения обьяснимы: некоторые песни могут быть очень долгими по времению.\n",
    "</div>"
   ]
  },
  {
   "cell_type": "code",
   "execution_count": 51,
   "metadata": {},
   "outputs": [
    {
     "data": {
      "image/png": "[encoded data removed]",
      "text/plain": [
       "<Figure size 1000x400 with 2 Axes>"
      ]
     },
     "metadata": {},
     "output_type": "display_data"
    }
   ],
   "source": [
    "plot_hist_box(data_new, 'danceability', '''Распределение значений\n",
    "танцевальности песни''', '''Распределение значений \n",
    "танцевальности песни (ящик с усами)''')"
   ]
  },
  {
   "cell_type": "code",
   "execution_count": 52,
   "metadata": {},
   "outputs": [
    {
     "data": {
      "text/plain": [
       "track_id            157\n",
       "artists             157\n",
       "album_name          157\n",
       "track_name          157\n",
       "popularity          157\n",
       "duration_ms         157\n",
       "explicit            157\n",
       "danceability        157\n",
       "energy              157\n",
       "key                 157\n",
       "loudness            157\n",
       "mode                157\n",
       "speechiness         157\n",
       "acousticness        157\n",
       "instrumentalness    157\n",
       "liveness            157\n",
       "valence             157\n",
       "tempo               157\n",
       "time_signature      157\n",
       "track_genre         157\n",
       "multi_genre         157\n",
       "dtype: int64"
      ]
     },
     "execution_count": 52,
     "metadata": {},
     "output_type": "execute_result"
    }
   ],
   "source": [
    "data_new[data_new['danceability'] == 0].count()"
   ]
  },
  {
   "cell_type": "markdown",
   "metadata": {},
   "source": [
    "<div class=\"alert alert-success\">\n",
    "Присустсвует 157 нулевых значений \"танцевальности\" песен. Так и есть, ведь имеются песни с такими жанрами, как sleep, ambient и так далее.\n",
    "</div>"
   ]
  },
  {
   "cell_type": "code",
   "execution_count": 54,
   "metadata": {},
   "outputs": [
    {
     "data": {
      "image/png": "[encoded data removed]",
      "text/plain": [
       "<Figure size 1000x400 with 2 Axes>"
      ]
     },
     "metadata": {},
     "output_type": "display_data"
    }
   ],
   "source": [
    "plot_hist_box(data_new, 'energy', '''Распределение значений\n",
    "энергичности песни''', '''Распределение значений \n",
    "энергичности песни (ящик с усами)''')"
   ]
  },
  {
   "cell_type": "code",
   "execution_count": 55,
   "metadata": {},
   "outputs": [
    {
     "data": {
      "image/png": "[encoded data removed]",
      "text/plain": [
       "<Figure size 1000x400 with 2 Axes>"
      ]
     },
     "metadata": {},
     "output_type": "display_data"
    }
   ],
   "source": [
    "plot_hist_box(data_new, 'key', '''Распределение значений\n",
    "тональности песни''', '''Распределение значений \n",
    "тональности песни (ящик с усами)''')"
   ]
  },
  {
   "cell_type": "code",
   "execution_count": 56,
   "metadata": {},
   "outputs": [
    {
     "data": {
      "text/plain": [
       "81290   -49.531\n",
       "80943   -49.307\n",
       "Name: loudness, dtype: float64"
      ]
     },
     "execution_count": 56,
     "metadata": {},
     "output_type": "execute_result"
    }
   ],
   "source": [
    "data_new['loudness'].sort_values().head(2)"
   ]
  },
  {
   "cell_type": "code",
   "execution_count": 57,
   "metadata": {},
   "outputs": [
    {
     "data": {
      "text/plain": [
       "34025    1.821\n",
       "50862    1.864\n",
       "34994    2.574\n",
       "50750    3.156\n",
       "16548    4.532\n",
       "Name: loudness, dtype: float64"
      ]
     },
     "execution_count": 57,
     "metadata": {},
     "output_type": "execute_result"
    }
   ],
   "source": [
    "data_new['loudness'].sort_values().tail()"
   ]
  },
  {
   "cell_type": "code",
   "execution_count": 58,
   "metadata": {},
   "outputs": [],
   "source": [
    "min_loudness = data_new['loudness'].min()\n",
    "max_loudness = data_new['loudness'].max()\n",
    "\n",
    "data_new['loudness_new'] = (data_new['loudness'] - min_loudness) / (max_loudness - min_loudness)"
   ]
  },
  {
   "cell_type": "code",
   "execution_count": 59,
   "metadata": {},
   "outputs": [
    {
     "data": {
      "text/html": [
       "<div>\n",
       "<style scoped>\n",
       "    .dataframe tbody tr th:only-of-type {\n",
       "        vertical-align: middle;\n",
       "    }\n",
       "\n",
       "    .dataframe tbody tr th {\n",
       "        vertical-align: top;\n",
       "    }\n",
       "\n",
       "    .dataframe thead th {\n",
       "        text-align: right;\n",
       "    }\n",
       "</style>\n",
       "<table border=\"1\" class=\"dataframe\">\n",
       "  <thead>\n",
       "    <tr style=\"text-align: right;\">\n",
       "      <th></th>\n",
       "      <th>track_id</th>\n",
       "      <th>artists</th>\n",
       "      <th>album_name</th>\n",
       "      <th>track_name</th>\n",
       "      <th>popularity</th>\n",
       "      <th>duration_ms</th>\n",
       "      <th>explicit</th>\n",
       "      <th>danceability</th>\n",
       "      <th>energy</th>\n",
       "      <th>key</th>\n",
       "      <th>loudness</th>\n",
       "      <th>mode</th>\n",
       "      <th>speechiness</th>\n",
       "      <th>acousticness</th>\n",
       "      <th>instrumentalness</th>\n",
       "      <th>liveness</th>\n",
       "      <th>valence</th>\n",
       "      <th>tempo</th>\n",
       "      <th>time_signature</th>\n",
       "      <th>track_genre</th>\n",
       "      <th>multi_genre</th>\n",
       "      <th>loudness_new</th>\n",
       "    </tr>\n",
       "  </thead>\n",
       "  <tbody>\n",
       "    <tr>\n",
       "      <th>0</th>\n",
       "      <td>5SuOikwiRyPMVoIQDJUgSV</td>\n",
       "      <td>Gen Hoshino</td>\n",
       "      <td>Comedy</td>\n",
       "      <td>Comedy</td>\n",
       "      <td>73</td>\n",
       "      <td>230666</td>\n",
       "      <td>0</td>\n",
       "      <td>0.676</td>\n",
       "      <td>0.461</td>\n",
       "      <td>1</td>\n",
       "      <td>-6.746</td>\n",
       "      <td>0</td>\n",
       "      <td>0.1430</td>\n",
       "      <td>0.0322</td>\n",
       "      <td>0.000001</td>\n",
       "      <td>0.358</td>\n",
       "      <td>0.715</td>\n",
       "      <td>87.917</td>\n",
       "      <td>4</td>\n",
       "      <td>[acoustic, j-pop, singer-songwriter, songwriter]</td>\n",
       "      <td>1</td>\n",
       "      <td>0.791392</td>\n",
       "    </tr>\n",
       "    <tr>\n",
       "      <th>1</th>\n",
       "      <td>4qPNDBW1i3p13qLCt0Ki3A</td>\n",
       "      <td>Ben Woodward</td>\n",
       "      <td>Ghost (Acoustic)</td>\n",
       "      <td>Ghost - Acoustic</td>\n",
       "      <td>55</td>\n",
       "      <td>149610</td>\n",
       "      <td>0</td>\n",
       "      <td>0.420</td>\n",
       "      <td>0.166</td>\n",
       "      <td>1</td>\n",
       "      <td>-17.235</td>\n",
       "      <td>1</td>\n",
       "      <td>0.0763</td>\n",
       "      <td>0.9240</td>\n",
       "      <td>0.000006</td>\n",
       "      <td>0.101</td>\n",
       "      <td>0.267</td>\n",
       "      <td>77.489</td>\n",
       "      <td>4</td>\n",
       "      <td>[acoustic, chill]</td>\n",
       "      <td>1</td>\n",
       "      <td>0.597377</td>\n",
       "    </tr>\n",
       "  </tbody>\n",
       "</table>\n",
       "</div>"
      ],
      "text/plain": [
       "                 track_id       artists        album_name        track_name  \\\n",
       "0  5SuOikwiRyPMVoIQDJUgSV   Gen Hoshino            Comedy            Comedy   \n",
       "1  4qPNDBW1i3p13qLCt0Ki3A  Ben Woodward  Ghost (Acoustic)  Ghost - Acoustic   \n",
       "\n",
       "   popularity  duration_ms  explicit  danceability  energy  key  loudness  \\\n",
       "0          73       230666         0         0.676   0.461    1    -6.746   \n",
       "1          55       149610         0         0.420   0.166    1   -17.235   \n",
       "\n",
       "   mode  speechiness  acousticness  instrumentalness  liveness  valence  \\\n",
       "0     0       0.1430        0.0322          0.000001     0.358    0.715   \n",
       "1     1       0.0763        0.9240          0.000006     0.101    0.267   \n",
       "\n",
       "    tempo  time_signature                                       track_genre  \\\n",
       "0  87.917               4  [acoustic, j-pop, singer-songwriter, songwriter]   \n",
       "1  77.489               4                                 [acoustic, chill]   \n",
       "\n",
       "   multi_genre  loudness_new  \n",
       "0            1      0.791392  \n",
       "1            1      0.597377  "
      ]
     },
     "execution_count": 59,
     "metadata": {},
     "output_type": "execute_result"
    }
   ],
   "source": [
    "data_new.head(2)"
   ]
  },
  {
   "cell_type": "code",
   "execution_count": 60,
   "metadata": {},
   "outputs": [
    {
     "data": {
      "text/plain": [
       "34025    0.949855\n",
       "50862    0.950650\n",
       "34994    0.963783\n",
       "50750    0.974548\n",
       "16548    1.000000\n",
       "Name: loudness_new, dtype: float64"
      ]
     },
     "execution_count": 60,
     "metadata": {},
     "output_type": "execute_result"
    }
   ],
   "source": [
    "data_new['loudness_new'].sort_values().tail()"
   ]
  },
  {
   "cell_type": "markdown",
   "metadata": {},
   "source": [
    "<div class=\"alert alert-success\">\n",
    "Так как значения в признаке `loudness` были в диапозоне от -50 до 4, мы привели их к дипозону от 0 до 1.\n",
    "</div>"
   ]
  },
  {
   "cell_type": "code",
   "execution_count": 62,
   "metadata": {},
   "outputs": [
    {
     "data": {
      "image/png": "[encoded data removed]",
      "text/plain": [
       "<Figure size 1000x400 with 2 Axes>"
      ]
     },
     "metadata": {},
     "output_type": "display_data"
    }
   ],
   "source": [
    "plot_hist_box(data_new, 'loudness_new', '''Распределение значений\n",
    "громкости песни''', '''Распределение значений \n",
    "громкости песни (ящик с усами)''')"
   ]
  },
  {
   "cell_type": "markdown",
   "metadata": {},
   "source": [
    "<div class=\"alert alert-success\">\n",
    "\"Громкость\" у некоторых песен меньше 0,2. Это песни с жанрами sleep, ambient и так далее, поэтому мы не считаем их за выбросы.\n",
    "</div>"
   ]
  },
  {
   "cell_type": "code",
   "execution_count": 64,
   "metadata": {},
   "outputs": [
    {
     "data": {
      "image/png": "[encoded data removed]",
      "text/plain": [
       "<Figure size 1000x400 with 2 Axes>"
      ]
     },
     "metadata": {},
     "output_type": "display_data"
    }
   ],
   "source": [
    "plot_hist_box(data_new, 'speechiness', '''Распределение значений\n",
    "разговорности в песне''', '''Распределение значений \n",
    "разговорности в песне (ящик с усами)''')"
   ]
  },
  {
   "cell_type": "markdown",
   "metadata": {},
   "source": [
    "<div class=\"alert alert-success\">\n",
    "\"Разговорность\" в песнях также могут достигать больших показателей в таких жанрах, как, например, рэп или комедия. \n",
    "</div>"
   ]
  },
  {
   "cell_type": "code",
   "execution_count": 66,
   "metadata": {},
   "outputs": [
    {
     "data": {
      "image/png": "[encoded data removed]",
      "text/plain": [
       "<Figure size 1000x400 with 2 Axes>"
      ]
     },
     "metadata": {},
     "output_type": "display_data"
    }
   ],
   "source": [
    "plot_hist_box(data_new, 'acousticness', '''Распределение значений\n",
    "акустичности песни''', '''Распределение значений \n",
    "акустичности песни (ящик с усами)''')"
   ]
  },
  {
   "cell_type": "code",
   "execution_count": 67,
   "metadata": {},
   "outputs": [
    {
     "data": {
      "image/png": "[encoded data removed]",
      "text/plain": [
       "<Figure size 1000x400 with 2 Axes>"
      ]
     },
     "metadata": {},
     "output_type": "display_data"
    }
   ],
   "source": [
    "plot_hist_box(data_new, 'instrumentalness', '''Распределение значений об инструментале песни''', '''Распределение значений об  \n",
    "инструментале песни (ящик с усами)''')"
   ]
  },
  {
   "cell_type": "code",
   "execution_count": 68,
   "metadata": {},
   "outputs": [
    {
     "data": {
      "text/plain": [
       "track_id            17780\n",
       "artists             17780\n",
       "album_name          17780\n",
       "track_name          17780\n",
       "popularity          17780\n",
       "duration_ms         17780\n",
       "explicit            17780\n",
       "danceability        17780\n",
       "energy              17780\n",
       "key                 17780\n",
       "loudness            17780\n",
       "mode                17780\n",
       "speechiness         17780\n",
       "acousticness        17780\n",
       "instrumentalness    17780\n",
       "liveness            17780\n",
       "valence             17780\n",
       "tempo               17780\n",
       "time_signature      17780\n",
       "track_genre         17780\n",
       "multi_genre         17780\n",
       "loudness_new        17780\n",
       "dtype: int64"
      ]
     },
     "execution_count": 68,
     "metadata": {},
     "output_type": "execute_result"
    }
   ],
   "source": [
    "data_new[data_new['instrumentalness'] > 0.4].count()"
   ]
  },
  {
   "cell_type": "markdown",
   "metadata": {},
   "source": [
    "<div class=\"alert alert-success\">\n",
    "Большинство треков содержат в себе использование какого-либо инструментала, некоторые треки выступают в данных графиках как выбросы, так как не используют инструментал.\n",
    "</div>"
   ]
  },
  {
   "cell_type": "code",
   "execution_count": 70,
   "metadata": {},
   "outputs": [
    {
     "data": {
      "image/png": "[encoded data removed]",
      "text/plain": [
       "<Figure size 1000x400 with 2 Axes>"
      ]
     },
     "metadata": {},
     "output_type": "display_data"
    }
   ],
   "source": [
    "plot_hist_box(data_new, 'liveness', '''Распределение значений\n",
    "длительности песни''', '''Распределение значений \n",
    "длительности песни (ящик с усами)''')"
   ]
  },
  {
   "cell_type": "code",
   "execution_count": 71,
   "metadata": {},
   "outputs": [
    {
     "data": {
      "image/png": "[encoded data removed]",
      "text/plain": [
       "<Figure size 1000x400 with 2 Axes>"
      ]
     },
     "metadata": {},
     "output_type": "display_data"
    }
   ],
   "source": [
    "plot_hist_box(data_new, 'valence', '''Распределение значений\n",
    "длительности песни''', '''Распределение значений \n",
    "длительности песни (ящик с усами)''')"
   ]
  },
  {
   "cell_type": "code",
   "execution_count": 72,
   "metadata": {},
   "outputs": [
    {
     "data": {
      "image/png": "[encoded data removed]",
      "text/plain": [
       "<Figure size 1000x400 with 2 Axes>"
      ]
     },
     "metadata": {},
     "output_type": "display_data"
    }
   ],
   "source": [
    "plot_hist_box(data_new, 'tempo', '''Распределение значений\n",
    "длительности песни''', '''Распределение значений \n",
    "длительности песни (ящик с усами)''')"
   ]
  },
  {
   "cell_type": "markdown",
   "metadata": {},
   "source": [
    "<div class=\"alert alert-success\">\n",
    "Скорость, с которой проигрывается песня, также может быть нулевая, например в жанре sleep, или высокая, например в жанре rap.\n",
    "</div>"
   ]
  },
  {
   "cell_type": "code",
   "execution_count": 74,
   "metadata": {},
   "outputs": [],
   "source": [
    "data_new['intens'] = data_new[['danceability', 'energy', 'loudness_new', 'tempo']].mean(axis=1)"
   ]
  },
  {
   "cell_type": "code",
   "execution_count": 75,
   "metadata": {},
   "outputs": [
    {
     "data": {
      "image/png": "[encoded data removed]",
      "text/plain": [
       "<Figure size 1000x400 with 2 Axes>"
      ]
     },
     "metadata": {},
     "output_type": "display_data"
    }
   ],
   "source": [
    "plot_hist_box(data_new, 'intens', '''Распределение значений\n",
    "интенсивности песни''', '''Распределение значений \n",
    "интенсивности песни (ящик с усами)''')"
   ]
  },
  {
   "cell_type": "code",
   "execution_count": 76,
   "metadata": {},
   "outputs": [
    {
     "data": {
      "text/html": [
       "<div>\n",
       "<style scoped>\n",
       "    .dataframe tbody tr th:only-of-type {\n",
       "        vertical-align: middle;\n",
       "    }\n",
       "\n",
       "    .dataframe tbody tr th {\n",
       "        vertical-align: top;\n",
       "    }\n",
       "\n",
       "    .dataframe thead th {\n",
       "        text-align: right;\n",
       "    }\n",
       "</style>\n",
       "<table border=\"1\" class=\"dataframe\">\n",
       "  <thead>\n",
       "    <tr style=\"text-align: right;\">\n",
       "      <th></th>\n",
       "      <th>track_id</th>\n",
       "      <th>artists</th>\n",
       "      <th>album_name</th>\n",
       "      <th>track_name</th>\n",
       "      <th>popularity</th>\n",
       "      <th>duration_ms</th>\n",
       "      <th>explicit</th>\n",
       "      <th>danceability</th>\n",
       "      <th>energy</th>\n",
       "      <th>key</th>\n",
       "      <th>loudness</th>\n",
       "      <th>mode</th>\n",
       "      <th>speechiness</th>\n",
       "      <th>acousticness</th>\n",
       "      <th>instrumentalness</th>\n",
       "      <th>liveness</th>\n",
       "      <th>valence</th>\n",
       "      <th>tempo</th>\n",
       "      <th>time_signature</th>\n",
       "      <th>track_genre</th>\n",
       "      <th>multi_genre</th>\n",
       "      <th>loudness_new</th>\n",
       "      <th>intens</th>\n",
       "    </tr>\n",
       "  </thead>\n",
       "  <tbody>\n",
       "    <tr>\n",
       "      <th>0</th>\n",
       "      <td>5SuOikwiRyPMVoIQDJUgSV</td>\n",
       "      <td>Gen Hoshino</td>\n",
       "      <td>Comedy</td>\n",
       "      <td>Comedy</td>\n",
       "      <td>73</td>\n",
       "      <td>230666</td>\n",
       "      <td>0</td>\n",
       "      <td>0.676</td>\n",
       "      <td>0.461</td>\n",
       "      <td>1</td>\n",
       "      <td>-6.746</td>\n",
       "      <td>0</td>\n",
       "      <td>0.1430</td>\n",
       "      <td>0.0322</td>\n",
       "      <td>0.000001</td>\n",
       "      <td>0.358</td>\n",
       "      <td>0.715</td>\n",
       "      <td>87.917</td>\n",
       "      <td>4</td>\n",
       "      <td>[acoustic, j-pop, singer-songwriter, songwriter]</td>\n",
       "      <td>1</td>\n",
       "      <td>0.791392</td>\n",
       "      <td>22.461348</td>\n",
       "    </tr>\n",
       "    <tr>\n",
       "      <th>1</th>\n",
       "      <td>4qPNDBW1i3p13qLCt0Ki3A</td>\n",
       "      <td>Ben Woodward</td>\n",
       "      <td>Ghost (Acoustic)</td>\n",
       "      <td>Ghost - Acoustic</td>\n",
       "      <td>55</td>\n",
       "      <td>149610</td>\n",
       "      <td>0</td>\n",
       "      <td>0.420</td>\n",
       "      <td>0.166</td>\n",
       "      <td>1</td>\n",
       "      <td>-17.235</td>\n",
       "      <td>1</td>\n",
       "      <td>0.0763</td>\n",
       "      <td>0.9240</td>\n",
       "      <td>0.000006</td>\n",
       "      <td>0.101</td>\n",
       "      <td>0.267</td>\n",
       "      <td>77.489</td>\n",
       "      <td>4</td>\n",
       "      <td>[acoustic, chill]</td>\n",
       "      <td>1</td>\n",
       "      <td>0.597377</td>\n",
       "      <td>19.668094</td>\n",
       "    </tr>\n",
       "  </tbody>\n",
       "</table>\n",
       "</div>"
      ],
      "text/plain": [
       "                 track_id       artists        album_name        track_name  \\\n",
       "0  5SuOikwiRyPMVoIQDJUgSV   Gen Hoshino            Comedy            Comedy   \n",
       "1  4qPNDBW1i3p13qLCt0Ki3A  Ben Woodward  Ghost (Acoustic)  Ghost - Acoustic   \n",
       "\n",
       "   popularity  duration_ms  explicit  danceability  energy  key  loudness  \\\n",
       "0          73       230666         0         0.676   0.461    1    -6.746   \n",
       "1          55       149610         0         0.420   0.166    1   -17.235   \n",
       "\n",
       "   mode  speechiness  acousticness  instrumentalness  liveness  valence  \\\n",
       "0     0       0.1430        0.0322          0.000001     0.358    0.715   \n",
       "1     1       0.0763        0.9240          0.000006     0.101    0.267   \n",
       "\n",
       "    tempo  time_signature                                       track_genre  \\\n",
       "0  87.917               4  [acoustic, j-pop, singer-songwriter, songwriter]   \n",
       "1  77.489               4                                 [acoustic, chill]   \n",
       "\n",
       "   multi_genre  loudness_new     intens  \n",
       "0            1      0.791392  22.461348  \n",
       "1            1      0.597377  19.668094  "
      ]
     },
     "execution_count": 76,
     "metadata": {},
     "output_type": "execute_result"
    }
   ],
   "source": [
    "data_new.head(2)"
   ]
  },
  {
   "cell_type": "markdown",
   "metadata": {},
   "source": [
    "<div class=\"alert alert-success\">\n",
    "Создали новый признак intens, который совмещает в себе \"танцевальность\", \"энергичность\", \"громкость\", \"темп\" песни и отвечает за \"интенсивность\" песни.\n",
    "</div>"
   ]
  },
  {
   "cell_type": "code",
   "execution_count": 78,
   "metadata": {},
   "outputs": [],
   "source": [
    "def pie(sign, desc):\n",
    "    fig, axs = plt.subplots(figsize=(5, 5))\n",
    "    \n",
    "    labels = data_new[sign].value_counts().index.tolist()\n",
    "    axs.pie(data_new[sign].value_counts(), autopct='%1.1f%%', labels = labels)\n",
    "\n",
    "    fig.suptitle(desc)\n",
    "\n",
    "    plt.show()"
   ]
  },
  {
   "cell_type": "markdown",
   "metadata": {},
   "source": [
    "<div class=\"alert alert-success\">\n",
    "Написали функцию для визуализации категориальных признаков при помощи круговой диаграммы.\n",
    "</div>"
   ]
  },
  {
   "cell_type": "code",
   "execution_count": 80,
   "metadata": {},
   "outputs": [
    {
     "data": {
      "image/png": "[encoded data removed]",
      "text/plain": [
       "<Figure size 500x500 with 1 Axes>"
      ]
     },
     "metadata": {},
     "output_type": "display_data"
    }
   ],
   "source": [
    "pie('explicit', 'Используются ли в треках нецензурные выражения')"
   ]
  },
  {
   "cell_type": "code",
   "execution_count": 81,
   "metadata": {},
   "outputs": [
    {
     "data": {
      "image/png": "[encoded data removed]",
      "text/plain": [
       "<Figure size 500x500 with 1 Axes>"
      ]
     },
     "metadata": {},
     "output_type": "display_data"
    }
   ],
   "source": [
    "pie('mode', 'Мажор ( 1 ) или минор ( 0 )')"
   ]
  },
  {
   "cell_type": "code",
   "execution_count": 82,
   "metadata": {},
   "outputs": [
    {
     "data": {
      "image/png": "[encoded data removed]",
      "text/plain": [
       "<Figure size 500x500 with 1 Axes>"
      ]
     },
     "metadata": {},
     "output_type": "display_data"
    }
   ],
   "source": [
    "pie('time_signature', 'Сколько долей содержится в каждом такте песни')"
   ]
  },
  {
   "cell_type": "code",
   "execution_count": 83,
   "metadata": {},
   "outputs": [
    {
     "data": {
      "image/png": "[encoded data removed]",
      "text/plain": [
       "<Figure size 500x500 with 1 Axes>"
      ]
     },
     "metadata": {},
     "output_type": "display_data"
    }
   ],
   "source": [
    "pie('multi_genre', 'Присутствует ли мультижанровость у песни')"
   ]
  },
  {
   "cell_type": "markdown",
   "metadata": {},
   "source": [
    "<div class=\"alert alert-success\">\n",
    "В 8,6% песен присутствуют нецензурные выражения. 63,7% песен исполнены в мажоре. Большинство треков использует 4 доли в каждом такте песни (88,9%). У 18,9% песен 2 и больше жанров.\n",
    "</div>"
   ]
  },
  {
   "cell_type": "code",
   "execution_count": 85,
   "metadata": {},
   "outputs": [],
   "source": [
    "numerical_col = data_new.select_dtypes(include=['number']).columns"
   ]
  },
  {
   "cell_type": "code",
   "execution_count": 86,
   "metadata": {},
   "outputs": [
    {
     "data": {
      "text/html": [
       "<div>\n",
       "<style scoped>\n",
       "    .dataframe tbody tr th:only-of-type {\n",
       "        vertical-align: middle;\n",
       "    }\n",
       "\n",
       "    .dataframe tbody tr th {\n",
       "        vertical-align: top;\n",
       "    }\n",
       "\n",
       "    .dataframe thead th {\n",
       "        text-align: right;\n",
       "    }\n",
       "</style>\n",
       "<table border=\"1\" class=\"dataframe\">\n",
       "  <thead>\n",
       "    <tr style=\"text-align: right;\">\n",
       "      <th></th>\n",
       "      <th>popularity</th>\n",
       "      <th>duration_ms</th>\n",
       "      <th>explicit</th>\n",
       "      <th>danceability</th>\n",
       "      <th>energy</th>\n",
       "      <th>key</th>\n",
       "      <th>loudness</th>\n",
       "      <th>mode</th>\n",
       "      <th>speechiness</th>\n",
       "      <th>acousticness</th>\n",
       "      <th>instrumentalness</th>\n",
       "      <th>liveness</th>\n",
       "      <th>valence</th>\n",
       "      <th>tempo</th>\n",
       "      <th>time_signature</th>\n",
       "      <th>multi_genre</th>\n",
       "      <th>loudness_new</th>\n",
       "      <th>intens</th>\n",
       "    </tr>\n",
       "  </thead>\n",
       "  <tbody>\n",
       "    <tr>\n",
       "      <th>popularity</th>\n",
       "      <td>1.000000</td>\n",
       "      <td>0.012277</td>\n",
       "      <td>0.049678</td>\n",
       "      <td>0.055143</td>\n",
       "      <td>-0.016681</td>\n",
       "      <td>0.003413</td>\n",
       "      <td>0.065802</td>\n",
       "      <td>-0.015576</td>\n",
       "      <td>-0.067269</td>\n",
       "      <td>0.010849</td>\n",
       "      <td>-0.123347</td>\n",
       "      <td>-0.011348</td>\n",
       "      <td>-0.011159</td>\n",
       "      <td>0.007717</td>\n",
       "      <td>0.041385</td>\n",
       "      <td>0.086496</td>\n",
       "      <td>0.065802</td>\n",
       "      <td>0.008173</td>\n",
       "    </tr>\n",
       "    <tr>\n",
       "      <th>duration_ms</th>\n",
       "      <td>0.012277</td>\n",
       "      <td>1.000000</td>\n",
       "      <td>-0.092410</td>\n",
       "      <td>-0.083380</td>\n",
       "      <td>0.114452</td>\n",
       "      <td>0.017222</td>\n",
       "      <td>0.031850</td>\n",
       "      <td>-0.048964</td>\n",
       "      <td>-0.124377</td>\n",
       "      <td>-0.178217</td>\n",
       "      <td>0.119037</td>\n",
       "      <td>-0.041568</td>\n",
       "      <td>-0.169717</td>\n",
       "      <td>0.052987</td>\n",
       "      <td>0.030593</td>\n",
       "      <td>-0.003347</td>\n",
       "      <td>0.031850</td>\n",
       "      <td>0.053512</td>\n",
       "    </tr>\n",
       "    <tr>\n",
       "      <th>explicit</th>\n",
       "      <td>0.049678</td>\n",
       "      <td>-0.092410</td>\n",
       "      <td>1.000000</td>\n",
       "      <td>0.117994</td>\n",
       "      <td>0.088326</td>\n",
       "      <td>0.007366</td>\n",
       "      <td>0.109687</td>\n",
       "      <td>-0.034107</td>\n",
       "      <td>0.269253</td>\n",
       "      <td>-0.081458</td>\n",
       "      <td>-0.127324</td>\n",
       "      <td>0.040370</td>\n",
       "      <td>0.000632</td>\n",
       "      <td>-0.008027</td>\n",
       "      <td>0.044999</td>\n",
       "      <td>-0.001151</td>\n",
       "      <td>0.109687</td>\n",
       "      <td>-0.006256</td>\n",
       "    </tr>\n",
       "    <tr>\n",
       "      <th>danceability</th>\n",
       "      <td>0.055143</td>\n",
       "      <td>-0.083380</td>\n",
       "      <td>0.117994</td>\n",
       "      <td>1.000000</td>\n",
       "      <td>0.049154</td>\n",
       "      <td>0.033466</td>\n",
       "      <td>0.114889</td>\n",
       "      <td>-0.069140</td>\n",
       "      <td>0.152573</td>\n",
       "      <td>-0.053088</td>\n",
       "      <td>-0.156132</td>\n",
       "      <td>-0.148902</td>\n",
       "      <td>0.475161</td>\n",
       "      <td>-0.049321</td>\n",
       "      <td>0.183487</td>\n",
       "      <td>0.033414</td>\n",
       "      <td>0.114889</td>\n",
       "      <td>-0.042592</td>\n",
       "    </tr>\n",
       "    <tr>\n",
       "      <th>energy</th>\n",
       "      <td>-0.016681</td>\n",
       "      <td>0.114452</td>\n",
       "      <td>0.088326</td>\n",
       "      <td>0.049154</td>\n",
       "      <td>1.000000</td>\n",
       "      <td>0.043402</td>\n",
       "      <td>0.752668</td>\n",
       "      <td>-0.070361</td>\n",
       "      <td>0.350064</td>\n",
       "      <td>-0.711779</td>\n",
       "      <td>-0.041905</td>\n",
       "      <td>0.181892</td>\n",
       "      <td>0.205338</td>\n",
       "      <td>0.250167</td>\n",
       "      <td>0.168434</td>\n",
       "      <td>0.031318</td>\n",
       "      <td>0.752668</td>\n",
       "      <td>0.260863</td>\n",
       "    </tr>\n",
       "    <tr>\n",
       "      <th>key</th>\n",
       "      <td>0.003413</td>\n",
       "      <td>0.017222</td>\n",
       "      <td>0.007366</td>\n",
       "      <td>0.033466</td>\n",
       "      <td>0.043402</td>\n",
       "      <td>1.000000</td>\n",
       "      <td>0.028451</td>\n",
       "      <td>-0.139088</td>\n",
       "      <td>0.040304</td>\n",
       "      <td>-0.040869</td>\n",
       "      <td>0.003610</td>\n",
       "      <td>-0.006009</td>\n",
       "      <td>0.025321</td>\n",
       "      <td>0.008549</td>\n",
       "      <td>0.015383</td>\n",
       "      <td>0.009624</td>\n",
       "      <td>0.028451</td>\n",
       "      <td>0.009225</td>\n",
       "    </tr>\n",
       "    <tr>\n",
       "      <th>loudness</th>\n",
       "      <td>0.065802</td>\n",
       "      <td>0.031850</td>\n",
       "      <td>0.109687</td>\n",
       "      <td>0.114889</td>\n",
       "      <td>0.752668</td>\n",
       "      <td>0.028451</td>\n",
       "      <td>1.000000</td>\n",
       "      <td>-0.039302</td>\n",
       "      <td>0.218028</td>\n",
       "      <td>-0.536538</td>\n",
       "      <td>-0.298595</td>\n",
       "      <td>0.114553</td>\n",
       "      <td>0.227083</td>\n",
       "      <td>0.209200</td>\n",
       "      <td>0.159546</td>\n",
       "      <td>0.077740</td>\n",
       "      <td>1.000000</td>\n",
       "      <td>0.219236</td>\n",
       "    </tr>\n",
       "    <tr>\n",
       "      <th>mode</th>\n",
       "      <td>-0.015576</td>\n",
       "      <td>-0.048964</td>\n",
       "      <td>-0.034107</td>\n",
       "      <td>-0.069140</td>\n",
       "      <td>-0.070361</td>\n",
       "      <td>-0.139088</td>\n",
       "      <td>-0.039302</td>\n",
       "      <td>1.000000</td>\n",
       "      <td>-0.108940</td>\n",
       "      <td>0.082846</td>\n",
       "      <td>-0.077229</td>\n",
       "      <td>0.015433</td>\n",
       "      <td>0.024348</td>\n",
       "      <td>-0.001276</td>\n",
       "      <td>-0.027625</td>\n",
       "      <td>0.008740</td>\n",
       "      <td>-0.039302</td>\n",
       "      <td>-0.002253</td>\n",
       "    </tr>\n",
       "    <tr>\n",
       "      <th>speechiness</th>\n",
       "      <td>-0.067269</td>\n",
       "      <td>-0.124377</td>\n",
       "      <td>0.269253</td>\n",
       "      <td>0.152573</td>\n",
       "      <td>0.350064</td>\n",
       "      <td>0.040304</td>\n",
       "      <td>0.218028</td>\n",
       "      <td>-0.108940</td>\n",
       "      <td>1.000000</td>\n",
       "      <td>-0.214893</td>\n",
       "      <td>-0.051506</td>\n",
       "      <td>0.094767</td>\n",
       "      <td>0.082848</td>\n",
       "      <td>0.109445</td>\n",
       "      <td>0.078693</td>\n",
       "      <td>-0.027620</td>\n",
       "      <td>0.218028</td>\n",
       "      <td>0.113645</td>\n",
       "    </tr>\n",
       "    <tr>\n",
       "      <th>acousticness</th>\n",
       "      <td>0.010849</td>\n",
       "      <td>-0.178217</td>\n",
       "      <td>-0.081458</td>\n",
       "      <td>-0.053088</td>\n",
       "      <td>-0.711779</td>\n",
       "      <td>-0.040869</td>\n",
       "      <td>-0.536538</td>\n",
       "      <td>0.082846</td>\n",
       "      <td>-0.214893</td>\n",
       "      <td>1.000000</td>\n",
       "      <td>-0.095016</td>\n",
       "      <td>-0.044962</td>\n",
       "      <td>-0.022017</td>\n",
       "      <td>-0.227433</td>\n",
       "      <td>-0.163084</td>\n",
       "      <td>-0.049697</td>\n",
       "      <td>-0.536538</td>\n",
       "      <td>-0.234771</td>\n",
       "    </tr>\n",
       "    <tr>\n",
       "      <th>instrumentalness</th>\n",
       "      <td>-0.123347</td>\n",
       "      <td>0.119037</td>\n",
       "      <td>-0.127324</td>\n",
       "      <td>-0.156132</td>\n",
       "      <td>-0.041905</td>\n",
       "      <td>0.003610</td>\n",
       "      <td>-0.298595</td>\n",
       "      <td>-0.077229</td>\n",
       "      <td>-0.051506</td>\n",
       "      <td>-0.095016</td>\n",
       "      <td>1.000000</td>\n",
       "      <td>-0.105263</td>\n",
       "      <td>-0.333767</td>\n",
       "      <td>-0.012342</td>\n",
       "      <td>-0.055592</td>\n",
       "      <td>-0.077144</td>\n",
       "      <td>-0.298595</td>\n",
       "      <td>-0.015202</td>\n",
       "    </tr>\n",
       "    <tr>\n",
       "      <th>liveness</th>\n",
       "      <td>-0.011348</td>\n",
       "      <td>-0.041568</td>\n",
       "      <td>0.040370</td>\n",
       "      <td>-0.148902</td>\n",
       "      <td>0.181892</td>\n",
       "      <td>-0.006009</td>\n",
       "      <td>0.114553</td>\n",
       "      <td>0.015433</td>\n",
       "      <td>0.094767</td>\n",
       "      <td>-0.044962</td>\n",
       "      <td>-0.105263</td>\n",
       "      <td>1.000000</td>\n",
       "      <td>0.007707</td>\n",
       "      <td>0.014892</td>\n",
       "      <td>-0.008783</td>\n",
       "      <td>-0.017567</td>\n",
       "      <td>0.114553</td>\n",
       "      <td>0.015837</td>\n",
       "    </tr>\n",
       "    <tr>\n",
       "      <th>valence</th>\n",
       "      <td>-0.011159</td>\n",
       "      <td>-0.169717</td>\n",
       "      <td>0.000632</td>\n",
       "      <td>0.475161</td>\n",
       "      <td>0.205338</td>\n",
       "      <td>0.025321</td>\n",
       "      <td>0.227083</td>\n",
       "      <td>0.024348</td>\n",
       "      <td>0.082848</td>\n",
       "      <td>-0.022017</td>\n",
       "      <td>-0.333767</td>\n",
       "      <td>0.007707</td>\n",
       "      <td>1.000000</td>\n",
       "      <td>0.074989</td>\n",
       "      <td>0.131972</td>\n",
       "      <td>0.019442</td>\n",
       "      <td>0.227083</td>\n",
       "      <td>0.080660</td>\n",
       "    </tr>\n",
       "    <tr>\n",
       "      <th>tempo</th>\n",
       "      <td>0.007717</td>\n",
       "      <td>0.052987</td>\n",
       "      <td>-0.008027</td>\n",
       "      <td>-0.049321</td>\n",
       "      <td>0.250167</td>\n",
       "      <td>0.008549</td>\n",
       "      <td>0.209200</td>\n",
       "      <td>-0.001276</td>\n",
       "      <td>0.109445</td>\n",
       "      <td>-0.227433</td>\n",
       "      <td>-0.012342</td>\n",
       "      <td>0.014892</td>\n",
       "      <td>0.074989</td>\n",
       "      <td>1.000000</td>\n",
       "      <td>0.027893</td>\n",
       "      <td>0.008481</td>\n",
       "      <td>0.209200</td>\n",
       "      <td>0.999850</td>\n",
       "    </tr>\n",
       "    <tr>\n",
       "      <th>time_signature</th>\n",
       "      <td>0.041385</td>\n",
       "      <td>0.030593</td>\n",
       "      <td>0.044999</td>\n",
       "      <td>0.183487</td>\n",
       "      <td>0.168434</td>\n",
       "      <td>0.015383</td>\n",
       "      <td>0.159546</td>\n",
       "      <td>-0.027625</td>\n",
       "      <td>0.078693</td>\n",
       "      <td>-0.163084</td>\n",
       "      <td>-0.055592</td>\n",
       "      <td>-0.008783</td>\n",
       "      <td>0.131972</td>\n",
       "      <td>0.027893</td>\n",
       "      <td>1.000000</td>\n",
       "      <td>0.025064</td>\n",
       "      <td>0.159546</td>\n",
       "      <td>0.030527</td>\n",
       "    </tr>\n",
       "    <tr>\n",
       "      <th>multi_genre</th>\n",
       "      <td>0.086496</td>\n",
       "      <td>-0.003347</td>\n",
       "      <td>-0.001151</td>\n",
       "      <td>0.033414</td>\n",
       "      <td>0.031318</td>\n",
       "      <td>0.009624</td>\n",
       "      <td>0.077740</td>\n",
       "      <td>0.008740</td>\n",
       "      <td>-0.027620</td>\n",
       "      <td>-0.049697</td>\n",
       "      <td>-0.077144</td>\n",
       "      <td>-0.017567</td>\n",
       "      <td>0.019442</td>\n",
       "      <td>0.008481</td>\n",
       "      <td>0.025064</td>\n",
       "      <td>1.000000</td>\n",
       "      <td>0.077740</td>\n",
       "      <td>0.009167</td>\n",
       "    </tr>\n",
       "    <tr>\n",
       "      <th>loudness_new</th>\n",
       "      <td>0.065802</td>\n",
       "      <td>0.031850</td>\n",
       "      <td>0.109687</td>\n",
       "      <td>0.114889</td>\n",
       "      <td>0.752668</td>\n",
       "      <td>0.028451</td>\n",
       "      <td>1.000000</td>\n",
       "      <td>-0.039302</td>\n",
       "      <td>0.218028</td>\n",
       "      <td>-0.536538</td>\n",
       "      <td>-0.298595</td>\n",
       "      <td>0.114553</td>\n",
       "      <td>0.227083</td>\n",
       "      <td>0.209200</td>\n",
       "      <td>0.159546</td>\n",
       "      <td>0.077740</td>\n",
       "      <td>1.000000</td>\n",
       "      <td>0.219236</td>\n",
       "    </tr>\n",
       "    <tr>\n",
       "      <th>intens</th>\n",
       "      <td>0.008173</td>\n",
       "      <td>0.053512</td>\n",
       "      <td>-0.006256</td>\n",
       "      <td>-0.042592</td>\n",
       "      <td>0.260863</td>\n",
       "      <td>0.009225</td>\n",
       "      <td>0.219236</td>\n",
       "      <td>-0.002253</td>\n",
       "      <td>0.113645</td>\n",
       "      <td>-0.234771</td>\n",
       "      <td>-0.015202</td>\n",
       "      <td>0.015837</td>\n",
       "      <td>0.080660</td>\n",
       "      <td>0.999850</td>\n",
       "      <td>0.030527</td>\n",
       "      <td>0.009167</td>\n",
       "      <td>0.219236</td>\n",
       "      <td>1.000000</td>\n",
       "    </tr>\n",
       "  </tbody>\n",
       "</table>\n",
       "</div>"
      ],
      "text/plain": [
       "                  popularity  duration_ms  explicit  danceability    energy  \\\n",
       "popularity          1.000000     0.012277  0.049678      0.055143 -0.016681   \n",
       "duration_ms         0.012277     1.000000 -0.092410     -0.083380  0.114452   \n",
       "explicit            0.049678    -0.092410  1.000000      0.117994  0.088326   \n",
       "danceability        0.055143    -0.083380  0.117994      1.000000  0.049154   \n",
       "energy             -0.016681     0.114452  0.088326      0.049154  1.000000   \n",
       "key                 0.003413     0.017222  0.007366      0.033466  0.043402   \n",
       "loudness            0.065802     0.031850  0.109687      0.114889  0.752668   \n",
       "mode               -0.015576    -0.048964 -0.034107     -0.069140 -0.070361   \n",
       "speechiness        -0.067269    -0.124377  0.269253      0.152573  0.350064   \n",
       "acousticness        0.010849    -0.178217 -0.081458     -0.053088 -0.711779   \n",
       "instrumentalness   -0.123347     0.119037 -0.127324     -0.156132 -0.041905   \n",
       "liveness           -0.011348    -0.041568  0.040370     -0.148902  0.181892   \n",
       "valence            -0.011159    -0.169717  0.000632      0.475161  0.205338   \n",
       "tempo               0.007717     0.052987 -0.008027     -0.049321  0.250167   \n",
       "time_signature      0.041385     0.030593  0.044999      0.183487  0.168434   \n",
       "multi_genre         0.086496    -0.003347 -0.001151      0.033414  0.031318   \n",
       "loudness_new        0.065802     0.031850  0.109687      0.114889  0.752668   \n",
       "intens              0.008173     0.053512 -0.006256     -0.042592  0.260863   \n",
       "\n",
       "                       key  loudness      mode  speechiness  acousticness  \\\n",
       "popularity        0.003413  0.065802 -0.015576    -0.067269      0.010849   \n",
       "duration_ms       0.017222  0.031850 -0.048964    -0.124377     -0.178217   \n",
       "explicit          0.007366  0.109687 -0.034107     0.269253     -0.081458   \n",
       "danceability      0.033466  0.114889 -0.069140     0.152573     -0.053088   \n",
       "energy            0.043402  0.752668 -0.070361     0.350064     -0.711779   \n",
       "key               1.000000  0.028451 -0.139088     0.040304     -0.040869   \n",
       "loudness          0.028451  1.000000 -0.039302     0.218028     -0.536538   \n",
       "mode             -0.139088 -0.039302  1.000000    -0.108940      0.082846   \n",
       "speechiness       0.040304  0.218028 -0.108940     1.000000     -0.214893   \n",
       "acousticness     -0.040869 -0.536538  0.082846    -0.214893      1.000000   \n",
       "instrumentalness  0.003610 -0.298595 -0.077229    -0.051506     -0.095016   \n",
       "liveness         -0.006009  0.114553  0.015433     0.094767     -0.044962   \n",
       "valence           0.025321  0.227083  0.024348     0.082848     -0.022017   \n",
       "tempo             0.008549  0.209200 -0.001276     0.109445     -0.227433   \n",
       "time_signature    0.015383  0.159546 -0.027625     0.078693     -0.163084   \n",
       "multi_genre       0.009624  0.077740  0.008740    -0.027620     -0.049697   \n",
       "loudness_new      0.028451  1.000000 -0.039302     0.218028     -0.536538   \n",
       "intens            0.009225  0.219236 -0.002253     0.113645     -0.234771   \n",
       "\n",
       "                  instrumentalness  liveness   valence     tempo  \\\n",
       "popularity               -0.123347 -0.011348 -0.011159  0.007717   \n",
       "duration_ms               0.119037 -0.041568 -0.169717  0.052987   \n",
       "explicit                 -0.127324  0.040370  0.000632 -0.008027   \n",
       "danceability             -0.156132 -0.148902  0.475161 -0.049321   \n",
       "energy                   -0.041905  0.181892  0.205338  0.250167   \n",
       "key                       0.003610 -0.006009  0.025321  0.008549   \n",
       "loudness                 -0.298595  0.114553  0.227083  0.209200   \n",
       "mode                     -0.077229  0.015433  0.024348 -0.001276   \n",
       "speechiness              -0.051506  0.094767  0.082848  0.109445   \n",
       "acousticness             -0.095016 -0.044962 -0.022017 -0.227433   \n",
       "instrumentalness          1.000000 -0.105263 -0.333767 -0.012342   \n",
       "liveness                 -0.105263  1.000000  0.007707  0.014892   \n",
       "valence                  -0.333767  0.007707  1.000000  0.074989   \n",
       "tempo                    -0.012342  0.014892  0.074989  1.000000   \n",
       "time_signature           -0.055592 -0.008783  0.131972  0.027893   \n",
       "multi_genre              -0.077144 -0.017567  0.019442  0.008481   \n",
       "loudness_new             -0.298595  0.114553  0.227083  0.209200   \n",
       "intens                   -0.015202  0.015837  0.080660  0.999850   \n",
       "\n",
       "                  time_signature  multi_genre  loudness_new    intens  \n",
       "popularity              0.041385     0.086496      0.065802  0.008173  \n",
       "duration_ms             0.030593    -0.003347      0.031850  0.053512  \n",
       "explicit                0.044999    -0.001151      0.109687 -0.006256  \n",
       "danceability            0.183487     0.033414      0.114889 -0.042592  \n",
       "energy                  0.168434     0.031318      0.752668  0.260863  \n",
       "key                     0.015383     0.009624      0.028451  0.009225  \n",
       "loudness                0.159546     0.077740      1.000000  0.219236  \n",
       "mode                   -0.027625     0.008740     -0.039302 -0.002253  \n",
       "speechiness             0.078693    -0.027620      0.218028  0.113645  \n",
       "acousticness           -0.163084    -0.049697     -0.536538 -0.234771  \n",
       "instrumentalness       -0.055592    -0.077144     -0.298595 -0.015202  \n",
       "liveness               -0.008783    -0.017567      0.114553  0.015837  \n",
       "valence                 0.131972     0.019442      0.227083  0.080660  \n",
       "tempo                   0.027893     0.008481      0.209200  0.999850  \n",
       "time_signature          1.000000     0.025064      0.159546  0.030527  \n",
       "multi_genre             0.025064     1.000000      0.077740  0.009167  \n",
       "loudness_new            0.159546     0.077740      1.000000  0.219236  \n",
       "intens                  0.030527     0.009167      0.219236  1.000000  "
      ]
     },
     "execution_count": 86,
     "metadata": {},
     "output_type": "execute_result"
    }
   ],
   "source": [
    "data_new[numerical_col].corr(method = 'spearman')"
   ]
  },
  {
   "cell_type": "markdown",
   "metadata": {},
   "source": [
    "<div class=\"alert alert-success\">\n",
    "Создали корреляцию количественных признаков от тагрета (popularity).  Большинство признаков не превышает корреляцию 0,1.   \n",
    "</div>"
   ]
  },
  {
   "cell_type": "code",
   "execution_count": 88,
   "metadata": {},
   "outputs": [],
   "source": [
    "categorical_col = ['artists', 'album_name', 'track_name']\n",
    "\n",
    "data_cat = data_new.copy()\n",
    "\n",
    "label_encoders = {}\n",
    "for col in categorical_col:\n",
    "    le = LabelEncoder()\n",
    "    data_cat[col] = le.fit_transform(data_cat[col])\n",
    "    label_encoders[col] = le"
   ]
  },
  {
   "cell_type": "code",
   "execution_count": 89,
   "metadata": {},
   "outputs": [
    {
     "data": {
      "text/html": [
       "<div>\n",
       "<style scoped>\n",
       "    .dataframe tbody tr th:only-of-type {\n",
       "        vertical-align: middle;\n",
       "    }\n",
       "\n",
       "    .dataframe tbody tr th {\n",
       "        vertical-align: top;\n",
       "    }\n",
       "\n",
       "    .dataframe thead th {\n",
       "        text-align: right;\n",
       "    }\n",
       "</style>\n",
       "<table border=\"1\" class=\"dataframe\">\n",
       "  <thead>\n",
       "    <tr style=\"text-align: right;\">\n",
       "      <th></th>\n",
       "      <th>track_id</th>\n",
       "      <th>artists</th>\n",
       "      <th>album_name</th>\n",
       "      <th>track_name</th>\n",
       "      <th>popularity</th>\n",
       "      <th>duration_ms</th>\n",
       "      <th>explicit</th>\n",
       "      <th>danceability</th>\n",
       "      <th>energy</th>\n",
       "      <th>key</th>\n",
       "      <th>loudness</th>\n",
       "      <th>mode</th>\n",
       "      <th>speechiness</th>\n",
       "      <th>acousticness</th>\n",
       "      <th>instrumentalness</th>\n",
       "      <th>liveness</th>\n",
       "      <th>valence</th>\n",
       "      <th>tempo</th>\n",
       "      <th>time_signature</th>\n",
       "      <th>track_genre</th>\n",
       "      <th>multi_genre</th>\n",
       "      <th>loudness_new</th>\n",
       "      <th>intens</th>\n",
       "    </tr>\n",
       "  </thead>\n",
       "  <tbody>\n",
       "    <tr>\n",
       "      <th>0</th>\n",
       "      <td>5SuOikwiRyPMVoIQDJUgSV</td>\n",
       "      <td>Gen Hoshino</td>\n",
       "      <td>Comedy</td>\n",
       "      <td>Comedy</td>\n",
       "      <td>73</td>\n",
       "      <td>230666</td>\n",
       "      <td>0</td>\n",
       "      <td>0.676</td>\n",
       "      <td>0.461</td>\n",
       "      <td>1</td>\n",
       "      <td>-6.746</td>\n",
       "      <td>0</td>\n",
       "      <td>0.1430</td>\n",
       "      <td>0.0322</td>\n",
       "      <td>0.000001</td>\n",
       "      <td>0.358</td>\n",
       "      <td>0.715</td>\n",
       "      <td>87.917</td>\n",
       "      <td>4</td>\n",
       "      <td>[acoustic, j-pop, singer-songwriter, songwriter]</td>\n",
       "      <td>1</td>\n",
       "      <td>0.791392</td>\n",
       "      <td>22.461348</td>\n",
       "    </tr>\n",
       "    <tr>\n",
       "      <th>1</th>\n",
       "      <td>4qPNDBW1i3p13qLCt0Ki3A</td>\n",
       "      <td>Ben Woodward</td>\n",
       "      <td>Ghost (Acoustic)</td>\n",
       "      <td>Ghost - Acoustic</td>\n",
       "      <td>55</td>\n",
       "      <td>149610</td>\n",
       "      <td>0</td>\n",
       "      <td>0.420</td>\n",
       "      <td>0.166</td>\n",
       "      <td>1</td>\n",
       "      <td>-17.235</td>\n",
       "      <td>1</td>\n",
       "      <td>0.0763</td>\n",
       "      <td>0.9240</td>\n",
       "      <td>0.000006</td>\n",
       "      <td>0.101</td>\n",
       "      <td>0.267</td>\n",
       "      <td>77.489</td>\n",
       "      <td>4</td>\n",
       "      <td>[acoustic, chill]</td>\n",
       "      <td>1</td>\n",
       "      <td>0.597377</td>\n",
       "      <td>19.668094</td>\n",
       "    </tr>\n",
       "  </tbody>\n",
       "</table>\n",
       "</div>"
      ],
      "text/plain": [
       "                 track_id       artists        album_name        track_name  \\\n",
       "0  5SuOikwiRyPMVoIQDJUgSV   Gen Hoshino            Comedy            Comedy   \n",
       "1  4qPNDBW1i3p13qLCt0Ki3A  Ben Woodward  Ghost (Acoustic)  Ghost - Acoustic   \n",
       "\n",
       "   popularity  duration_ms  explicit  danceability  energy  key  loudness  \\\n",
       "0          73       230666         0         0.676   0.461    1    -6.746   \n",
       "1          55       149610         0         0.420   0.166    1   -17.235   \n",
       "\n",
       "   mode  speechiness  acousticness  instrumentalness  liveness  valence  \\\n",
       "0     0       0.1430        0.0322          0.000001     0.358    0.715   \n",
       "1     1       0.0763        0.9240          0.000006     0.101    0.267   \n",
       "\n",
       "    tempo  time_signature                                       track_genre  \\\n",
       "0  87.917               4  [acoustic, j-pop, singer-songwriter, songwriter]   \n",
       "1  77.489               4                                 [acoustic, chill]   \n",
       "\n",
       "   multi_genre  loudness_new     intens  \n",
       "0            1      0.791392  22.461348  \n",
       "1            1      0.597377  19.668094  "
      ]
     },
     "execution_count": 89,
     "metadata": {},
     "output_type": "execute_result"
    }
   ],
   "source": [
    "data_new.head(2)"
   ]
  },
  {
   "cell_type": "code",
   "execution_count": 90,
   "metadata": {
    "scrolled": true
   },
   "outputs": [
    {
     "data": {
      "text/html": [
       "<div>\n",
       "<style scoped>\n",
       "    .dataframe tbody tr th:only-of-type {\n",
       "        vertical-align: middle;\n",
       "    }\n",
       "\n",
       "    .dataframe tbody tr th {\n",
       "        vertical-align: top;\n",
       "    }\n",
       "\n",
       "    .dataframe thead th {\n",
       "        text-align: right;\n",
       "    }\n",
       "</style>\n",
       "<table border=\"1\" class=\"dataframe\">\n",
       "  <thead>\n",
       "    <tr style=\"text-align: right;\">\n",
       "      <th></th>\n",
       "      <th>popularity</th>\n",
       "      <th>artists</th>\n",
       "      <th>album_name</th>\n",
       "      <th>track_name</th>\n",
       "    </tr>\n",
       "  </thead>\n",
       "  <tbody>\n",
       "    <tr>\n",
       "      <th>popularity</th>\n",
       "      <td>1.000000</td>\n",
       "      <td>-0.000725</td>\n",
       "      <td>0.029200</td>\n",
       "      <td>0.007155</td>\n",
       "    </tr>\n",
       "    <tr>\n",
       "      <th>artists</th>\n",
       "      <td>-0.000725</td>\n",
       "      <td>1.000000</td>\n",
       "      <td>0.096396</td>\n",
       "      <td>0.044169</td>\n",
       "    </tr>\n",
       "    <tr>\n",
       "      <th>album_name</th>\n",
       "      <td>0.029200</td>\n",
       "      <td>0.096396</td>\n",
       "      <td>1.000000</td>\n",
       "      <td>0.315269</td>\n",
       "    </tr>\n",
       "    <tr>\n",
       "      <th>track_name</th>\n",
       "      <td>0.007155</td>\n",
       "      <td>0.044169</td>\n",
       "      <td>0.315269</td>\n",
       "      <td>1.000000</td>\n",
       "    </tr>\n",
       "  </tbody>\n",
       "</table>\n",
       "</div>"
      ],
      "text/plain": [
       "            popularity   artists  album_name  track_name\n",
       "popularity    1.000000 -0.000725    0.029200    0.007155\n",
       "artists      -0.000725  1.000000    0.096396    0.044169\n",
       "album_name    0.029200  0.096396    1.000000    0.315269\n",
       "track_name    0.007155  0.044169    0.315269    1.000000"
      ]
     },
     "execution_count": 90,
     "metadata": {},
     "output_type": "execute_result"
    }
   ],
   "source": [
    "data_cat[['popularity', 'artists', 'album_name', 'track_name']].corr()"
   ]
  },
  {
   "cell_type": "markdown",
   "metadata": {},
   "source": [
    "<div class=\"alert alert-success\">\n",
    "Создали корреляцию категориальных признаков от тагрета (popularity).\n",
    "</div>"
   ]
  },
  {
   "cell_type": "markdown",
   "metadata": {},
   "source": [
    "# Шаг 4. Подготовка данных"
   ]
  },
  {
   "cell_type": "code",
   "execution_count": 93,
   "metadata": {},
   "outputs": [
    {
     "data": {
      "text/html": [
       "<div>\n",
       "<style scoped>\n",
       "    .dataframe tbody tr th:only-of-type {\n",
       "        vertical-align: middle;\n",
       "    }\n",
       "\n",
       "    .dataframe tbody tr th {\n",
       "        vertical-align: top;\n",
       "    }\n",
       "\n",
       "    .dataframe thead th {\n",
       "        text-align: right;\n",
       "    }\n",
       "</style>\n",
       "<table border=\"1\" class=\"dataframe\">\n",
       "  <thead>\n",
       "    <tr style=\"text-align: right;\">\n",
       "      <th></th>\n",
       "      <th>track_id</th>\n",
       "      <th>artists</th>\n",
       "      <th>album_name</th>\n",
       "      <th>track_name</th>\n",
       "      <th>popularity</th>\n",
       "      <th>duration_ms</th>\n",
       "      <th>explicit</th>\n",
       "      <th>danceability</th>\n",
       "      <th>energy</th>\n",
       "      <th>key</th>\n",
       "      <th>loudness</th>\n",
       "      <th>mode</th>\n",
       "      <th>speechiness</th>\n",
       "      <th>acousticness</th>\n",
       "      <th>instrumentalness</th>\n",
       "      <th>liveness</th>\n",
       "      <th>valence</th>\n",
       "      <th>tempo</th>\n",
       "      <th>time_signature</th>\n",
       "      <th>track_genre</th>\n",
       "      <th>multi_genre</th>\n",
       "      <th>loudness_new</th>\n",
       "      <th>intens</th>\n",
       "    </tr>\n",
       "  </thead>\n",
       "  <tbody>\n",
       "    <tr>\n",
       "      <th>0</th>\n",
       "      <td>5SuOikwiRyPMVoIQDJUgSV</td>\n",
       "      <td>Gen Hoshino</td>\n",
       "      <td>Comedy</td>\n",
       "      <td>Comedy</td>\n",
       "      <td>73</td>\n",
       "      <td>230666</td>\n",
       "      <td>0</td>\n",
       "      <td>0.676</td>\n",
       "      <td>0.461</td>\n",
       "      <td>1</td>\n",
       "      <td>-6.746</td>\n",
       "      <td>0</td>\n",
       "      <td>0.1430</td>\n",
       "      <td>0.0322</td>\n",
       "      <td>0.000001</td>\n",
       "      <td>0.358</td>\n",
       "      <td>0.715</td>\n",
       "      <td>87.917</td>\n",
       "      <td>4</td>\n",
       "      <td>[acoustic, j-pop, singer-songwriter, songwriter]</td>\n",
       "      <td>1</td>\n",
       "      <td>0.791392</td>\n",
       "      <td>22.461348</td>\n",
       "    </tr>\n",
       "    <tr>\n",
       "      <th>1</th>\n",
       "      <td>4qPNDBW1i3p13qLCt0Ki3A</td>\n",
       "      <td>Ben Woodward</td>\n",
       "      <td>Ghost (Acoustic)</td>\n",
       "      <td>Ghost - Acoustic</td>\n",
       "      <td>55</td>\n",
       "      <td>149610</td>\n",
       "      <td>0</td>\n",
       "      <td>0.420</td>\n",
       "      <td>0.166</td>\n",
       "      <td>1</td>\n",
       "      <td>-17.235</td>\n",
       "      <td>1</td>\n",
       "      <td>0.0763</td>\n",
       "      <td>0.9240</td>\n",
       "      <td>0.000006</td>\n",
       "      <td>0.101</td>\n",
       "      <td>0.267</td>\n",
       "      <td>77.489</td>\n",
       "      <td>4</td>\n",
       "      <td>[acoustic, chill]</td>\n",
       "      <td>1</td>\n",
       "      <td>0.597377</td>\n",
       "      <td>19.668094</td>\n",
       "    </tr>\n",
       "  </tbody>\n",
       "</table>\n",
       "</div>"
      ],
      "text/plain": [
       "                 track_id       artists        album_name        track_name  \\\n",
       "0  5SuOikwiRyPMVoIQDJUgSV   Gen Hoshino            Comedy            Comedy   \n",
       "1  4qPNDBW1i3p13qLCt0Ki3A  Ben Woodward  Ghost (Acoustic)  Ghost - Acoustic   \n",
       "\n",
       "   popularity  duration_ms  explicit  danceability  energy  key  loudness  \\\n",
       "0          73       230666         0         0.676   0.461    1    -6.746   \n",
       "1          55       149610         0         0.420   0.166    1   -17.235   \n",
       "\n",
       "   mode  speechiness  acousticness  instrumentalness  liveness  valence  \\\n",
       "0     0       0.1430        0.0322          0.000001     0.358    0.715   \n",
       "1     1       0.0763        0.9240          0.000006     0.101    0.267   \n",
       "\n",
       "    tempo  time_signature                                       track_genre  \\\n",
       "0  87.917               4  [acoustic, j-pop, singer-songwriter, songwriter]   \n",
       "1  77.489               4                                 [acoustic, chill]   \n",
       "\n",
       "   multi_genre  loudness_new     intens  \n",
       "0            1      0.791392  22.461348  \n",
       "1            1      0.597377  19.668094  "
      ]
     },
     "execution_count": 93,
     "metadata": {},
     "output_type": "execute_result"
    }
   ],
   "source": [
    "data_new.head(2)"
   ]
  },
  {
   "cell_type": "code",
   "execution_count": 94,
   "metadata": {},
   "outputs": [],
   "source": [
    "X = data_new.drop(['popularity',\n",
    "                   'track_id',\n",
    "                   'loudness',\n",
    "                   'time_signature',\n",
    "                   'key',\n",
    "                   'tempo'] ,axis = 1) \n",
    "y = data_new['popularity'] \n",
    "X_train, X_test, y_train, y_test = train_test_split(X,\n",
    "                                                    y,\n",
    "                                                    test_size=0.2,\n",
    "                                                    random_state=42)"
   ]
  },
  {
   "cell_type": "code",
   "execution_count": 95,
   "metadata": {},
   "outputs": [
    {
     "data": {
      "text/html": [
       "<div>\n",
       "<style scoped>\n",
       "    .dataframe tbody tr th:only-of-type {\n",
       "        vertical-align: middle;\n",
       "    }\n",
       "\n",
       "    .dataframe tbody tr th {\n",
       "        vertical-align: top;\n",
       "    }\n",
       "\n",
       "    .dataframe thead th {\n",
       "        text-align: right;\n",
       "    }\n",
       "</style>\n",
       "<table border=\"1\" class=\"dataframe\">\n",
       "  <thead>\n",
       "    <tr style=\"text-align: right;\">\n",
       "      <th></th>\n",
       "      <th>artists</th>\n",
       "      <th>album_name</th>\n",
       "      <th>track_name</th>\n",
       "      <th>duration_ms</th>\n",
       "      <th>explicit</th>\n",
       "      <th>danceability</th>\n",
       "      <th>energy</th>\n",
       "      <th>mode</th>\n",
       "      <th>speechiness</th>\n",
       "      <th>acousticness</th>\n",
       "      <th>instrumentalness</th>\n",
       "      <th>liveness</th>\n",
       "      <th>valence</th>\n",
       "      <th>track_genre</th>\n",
       "      <th>multi_genre</th>\n",
       "      <th>loudness_new</th>\n",
       "      <th>intens</th>\n",
       "    </tr>\n",
       "  </thead>\n",
       "  <tbody>\n",
       "    <tr>\n",
       "      <th>43156</th>\n",
       "      <td>The Bouncing Souls</td>\n",
       "      <td>The Gold Record</td>\n",
       "      <td>Better Things</td>\n",
       "      <td>207026</td>\n",
       "      <td>0</td>\n",
       "      <td>0.439</td>\n",
       "      <td>0.966</td>\n",
       "      <td>1</td>\n",
       "      <td>0.0693</td>\n",
       "      <td>0.00815</td>\n",
       "      <td>0.000007</td>\n",
       "      <td>0.148</td>\n",
       "      <td>0.607</td>\n",
       "      <td>[hardcore]</td>\n",
       "      <td>0</td>\n",
       "      <td>0.867321</td>\n",
       "      <td>42.312080</td>\n",
       "    </tr>\n",
       "    <tr>\n",
       "      <th>85629</th>\n",
       "      <td>Juan D'Arienzo;Alberto Echagüe</td>\n",
       "      <td>Juan D'arienzo y Alberto Echague</td>\n",
       "      <td>Bien Pulenta</td>\n",
       "      <td>167080</td>\n",
       "      <td>0</td>\n",
       "      <td>0.580</td>\n",
       "      <td>0.650</td>\n",
       "      <td>0</td>\n",
       "      <td>0.0971</td>\n",
       "      <td>0.92600</td>\n",
       "      <td>0.000088</td>\n",
       "      <td>0.061</td>\n",
       "      <td>0.704</td>\n",
       "      <td>[tango]</td>\n",
       "      <td>0</td>\n",
       "      <td>0.807114</td>\n",
       "      <td>34.309528</td>\n",
       "    </tr>\n",
       "    <tr>\n",
       "      <th>74545</th>\n",
       "      <td>Kvatro</td>\n",
       "      <td>XV лет, Часть 2</td>\n",
       "      <td>Caruso</td>\n",
       "      <td>206866</td>\n",
       "      <td>0</td>\n",
       "      <td>0.335</td>\n",
       "      <td>0.292</td>\n",
       "      <td>0</td>\n",
       "      <td>0.0353</td>\n",
       "      <td>0.89400</td>\n",
       "      <td>0.000070</td>\n",
       "      <td>0.123</td>\n",
       "      <td>0.195</td>\n",
       "      <td>[romance]</td>\n",
       "      <td>0</td>\n",
       "      <td>0.781644</td>\n",
       "      <td>32.609161</td>\n",
       "    </tr>\n",
       "    <tr>\n",
       "      <th>70848</th>\n",
       "      <td>Korol i Shut</td>\n",
       "      <td>Акустический альбом</td>\n",
       "      <td>Прыгну со скалы</td>\n",
       "      <td>190506</td>\n",
       "      <td>0</td>\n",
       "      <td>0.304</td>\n",
       "      <td>0.764</td>\n",
       "      <td>0</td>\n",
       "      <td>0.0634</td>\n",
       "      <td>0.24900</td>\n",
       "      <td>0.000000</td>\n",
       "      <td>0.263</td>\n",
       "      <td>0.353</td>\n",
       "      <td>[punk-rock]</td>\n",
       "      <td>0</td>\n",
       "      <td>0.812552</td>\n",
       "      <td>38.465138</td>\n",
       "    </tr>\n",
       "    <tr>\n",
       "      <th>90264</th>\n",
       "      <td>Buena Vista Social Club</td>\n",
       "      <td>Buena Vista Social Club</td>\n",
       "      <td>De Camino a la Vereda</td>\n",
       "      <td>303973</td>\n",
       "      <td>0</td>\n",
       "      <td>0.630</td>\n",
       "      <td>0.462</td>\n",
       "      <td>1</td>\n",
       "      <td>0.0406</td>\n",
       "      <td>0.84900</td>\n",
       "      <td>0.000186</td>\n",
       "      <td>0.125</td>\n",
       "      <td>0.963</td>\n",
       "      <td>[world-music]</td>\n",
       "      <td>0</td>\n",
       "      <td>0.716553</td>\n",
       "      <td>21.515138</td>\n",
       "    </tr>\n",
       "  </tbody>\n",
       "</table>\n",
       "</div>"
      ],
      "text/plain": [
       "                              artists                        album_name  \\\n",
       "43156              The Bouncing Souls                   The Gold Record   \n",
       "85629  Juan D'Arienzo;Alberto Echagüe  Juan D'arienzo y Alberto Echague   \n",
       "74545                          Kvatro                   XV лет, Часть 2   \n",
       "70848                    Korol i Shut               Акустический альбом   \n",
       "90264         Buena Vista Social Club           Buena Vista Social Club   \n",
       "\n",
       "                  track_name  duration_ms  explicit  danceability  energy  \\\n",
       "43156          Better Things       207026         0         0.439   0.966   \n",
       "85629           Bien Pulenta       167080         0         0.580   0.650   \n",
       "74545                 Caruso       206866         0         0.335   0.292   \n",
       "70848        Прыгну со скалы       190506         0         0.304   0.764   \n",
       "90264  De Camino a la Vereda       303973         0         0.630   0.462   \n",
       "\n",
       "       mode  speechiness  acousticness  instrumentalness  liveness  valence  \\\n",
       "43156     1       0.0693       0.00815          0.000007     0.148    0.607   \n",
       "85629     0       0.0971       0.92600          0.000088     0.061    0.704   \n",
       "74545     0       0.0353       0.89400          0.000070     0.123    0.195   \n",
       "70848     0       0.0634       0.24900          0.000000     0.263    0.353   \n",
       "90264     1       0.0406       0.84900          0.000186     0.125    0.963   \n",
       "\n",
       "         track_genre  multi_genre  loudness_new     intens  \n",
       "43156     [hardcore]            0      0.867321  42.312080  \n",
       "85629        [tango]            0      0.807114  34.309528  \n",
       "74545      [romance]            0      0.781644  32.609161  \n",
       "70848    [punk-rock]            0      0.812552  38.465138  \n",
       "90264  [world-music]            0      0.716553  21.515138  "
      ]
     },
     "execution_count": 95,
     "metadata": {},
     "output_type": "execute_result"
    }
   ],
   "source": [
    "X_test.head()"
   ]
  },
  {
   "cell_type": "code",
   "execution_count": 96,
   "metadata": {},
   "outputs": [
    {
     "name": "stdout",
     "output_type": "stream",
     "text": [
      "<class 'pandas.core.frame.DataFrame'>\n",
      "Index: 72368 entries, 87525 to 15795\n",
      "Data columns (total 17 columns):\n",
      " #   Column            Non-Null Count  Dtype  \n",
      "---  ------            --------------  -----  \n",
      " 0   artists           72368 non-null  object \n",
      " 1   album_name        72368 non-null  object \n",
      " 2   track_name        72368 non-null  object \n",
      " 3   duration_ms       72368 non-null  int64  \n",
      " 4   explicit          72368 non-null  int32  \n",
      " 5   danceability      72368 non-null  float64\n",
      " 6   energy            72368 non-null  float64\n",
      " 7   mode              72368 non-null  int64  \n",
      " 8   speechiness       72368 non-null  float64\n",
      " 9   acousticness      72368 non-null  float64\n",
      " 10  instrumentalness  72368 non-null  float64\n",
      " 11  liveness          72368 non-null  float64\n",
      " 12  valence           72368 non-null  float64\n",
      " 13  track_genre       72368 non-null  object \n",
      " 14  multi_genre       72368 non-null  int64  \n",
      " 15  loudness_new      72368 non-null  float64\n",
      " 16  intens            72368 non-null  float64\n",
      "dtypes: float64(9), int32(1), int64(3), object(4)\n",
      "memory usage: 9.7+ MB\n"
     ]
    }
   ],
   "source": [
    "X_train.info()"
   ]
  },
  {
   "cell_type": "code",
   "execution_count": 97,
   "metadata": {},
   "outputs": [
    {
     "data": {
      "text/plain": [
       "Index(['artists', 'album_name', 'track_name', 'duration_ms', 'explicit',\n",
       "       'danceability', 'energy', 'mode', 'speechiness', 'acousticness',\n",
       "       'instrumentalness', 'liveness', 'valence', 'track_genre', 'multi_genre',\n",
       "       'loudness_new', 'intens'],\n",
       "      dtype='object')"
      ]
     },
     "execution_count": 97,
     "metadata": {},
     "output_type": "execute_result"
    }
   ],
   "source": [
    "X_train.columns"
   ]
  },
  {
   "cell_type": "code",
   "execution_count": 98,
   "metadata": {},
   "outputs": [
    {
     "name": "stdout",
     "output_type": "stream",
     "text": [
      "(72368, 17) (18092, 17)\n",
      "(72368,) (18092,)\n"
     ]
    }
   ],
   "source": [
    "print(X_train.shape, X_test.shape)\n",
    "print(y_train.shape, y_test.shape)"
   ]
  },
  {
   "cell_type": "code",
   "execution_count": 99,
   "metadata": {},
   "outputs": [],
   "source": [
    "X_col_num = X.select_dtypes(include=['number']).columns"
   ]
  },
  {
   "cell_type": "code",
   "execution_count": 100,
   "metadata": {},
   "outputs": [],
   "source": [
    "num_columns = X_col_num\n",
    "ohe_columns = ['artists', 'album_name', 'track_name']\n",
    "mlb_columns = ['track_genre']"
   ]
  },
  {
   "cell_type": "code",
   "execution_count": 101,
   "metadata": {},
   "outputs": [
    {
     "data": {
      "text/plain": [
       "Index(['duration_ms', 'explicit', 'danceability', 'energy', 'mode',\n",
       "       'speechiness', 'acousticness', 'instrumentalness', 'liveness',\n",
       "       'valence', 'multi_genre', 'loudness_new', 'intens'],\n",
       "      dtype='object')"
      ]
     },
     "execution_count": 101,
     "metadata": {},
     "output_type": "execute_result"
    }
   ],
   "source": [
    "num_columns"
   ]
  },
  {
   "cell_type": "code",
   "execution_count": 102,
   "metadata": {},
   "outputs": [
    {
     "data": {
      "text/plain": [
       "['artists', 'album_name', 'track_name']"
      ]
     },
     "execution_count": 102,
     "metadata": {},
     "output_type": "execute_result"
    }
   ],
   "source": [
    "ohe_columns"
   ]
  },
  {
   "cell_type": "code",
   "execution_count": 103,
   "metadata": {},
   "outputs": [
    {
     "data": {
      "text/plain": [
       "['track_genre']"
      ]
     },
     "execution_count": 103,
     "metadata": {},
     "output_type": "execute_result"
    }
   ],
   "source": [
    "mlb_columns"
   ]
  },
  {
   "cell_type": "markdown",
   "metadata": {},
   "source": [
    "<div class=\"alert alert-success\">\n",
    "Подготовили тренировочную и тестовую выборки: 80% на 20% от всей выборки соотвественно. В качестве количественных признаков выбрали все, кроме loudness (мы заменили этот столбец на loudness_new), time_signature, key, tempo (имеют плохую кореляцию с таргетом). Также выбрали все признаки в качестве категориальных.\n",
    "</div>"
   ]
  },
  {
   "cell_type": "markdown",
   "metadata": {},
   "source": [
    "# Шаг 5. Обучение моделей"
   ]
  },
  {
   "cell_type": "markdown",
   "metadata": {},
   "source": [
    "<div class=\"alert alert-success\">\n",
    "Создадим один пайплайн с предобработкой для будущих моделей. \n",
    "</div>"
   ]
  },
  {
   "cell_type": "code",
   "execution_count": 107,
   "metadata": {},
   "outputs": [],
   "source": [
    "def binarize_genres(genres):\n",
    "    mlb = MultiLabelBinarizer()\n",
    "    return mlb.fit_transform(genres)"
   ]
  },
  {
   "cell_type": "code",
   "execution_count": 108,
   "metadata": {},
   "outputs": [],
   "source": [
    "X_train['track_genre'] = X_train['track_genre'].apply(lambda x: x if isinstance(x, list) else [x])"
   ]
  },
  {
   "cell_type": "markdown",
   "metadata": {},
   "source": [
    "<div class=\"alert alert-success\">\n",
    "Для обработки признака track_genre перед обучением нужно масштабировать все строки с помощью MultiLabelBinarizer, так как каждая строки - это массив меток. Для этого создали функцию binarize_genres, которая автоматически масштабирует все строки. Также проверили признак track_genre на наличие пустых списков. Затем нужно вставить в пайплайн с помощью FunctionTransformer.  \n",
    "</div>"
   ]
  },
  {
   "cell_type": "code",
   "execution_count": 110,
   "metadata": {},
   "outputs": [],
   "source": [
    "data_preprocessor = ColumnTransformer(\n",
    "    transformers=[\n",
    "        ('num', StandardScaler(), num_columns),\n",
    "        ('track_genre', FunctionTransformer(binarize_genres, validate=False), 'track_genre'),\n",
    "        ('ohe', OneHotEncoder(handle_unknown='ignore', sparse_output=True), ohe_columns)\n",
    "    ],\n",
    "    remainder='passthrough'\n",
    ")\n",
    "# Основная модель\n",
    "pipeline = Pipeline([\n",
    "    ('preprocessor', data_preprocessor),\n",
    "    ('model', DecisionTreeRegressor())\n",
    "])"
   ]
  },
  {
   "cell_type": "code",
   "execution_count": 111,
   "metadata": {},
   "outputs": [
    {
     "data": {
      "text/html": [
       "<style>#sk-container-id-1 {\n",
       "  /* Definition of color scheme common for light and dark mode */\n",
       "  --sklearn-color-text: black;\n",
       "  --sklearn-color-line: gray;\n",
       "  /* Definition of color scheme for unfitted estimators */\n",
       "  --sklearn-color-unfitted-level-0: #fff5e6;\n",
       "  --sklearn-color-unfitted-level-1: #f6e4d2;\n",
       "  --sklearn-color-unfitted-level-2: #ffe0b3;\n",
       "  --sklearn-color-unfitted-level-3: chocolate;\n",
       "  /* Definition of color scheme for fitted estimators */\n",
       "  --sklearn-color-fitted-level-0: #f0f8ff;\n",
       "  --sklearn-color-fitted-level-1: #d4ebff;\n",
       "  --sklearn-color-fitted-level-2: #b3dbfd;\n",
       "  --sklearn-color-fitted-level-3: cornflowerblue;\n",
       "\n",
       "  /* Specific color for light theme */\n",
       "  --sklearn-color-text-on-default-background: var(--sg-text-color, var(--theme-code-foreground, var(--jp-content-font-color1, black)));\n",
       "  --sklearn-color-background: var(--sg-background-color, var(--theme-background, var(--jp-layout-color0, white)));\n",
       "  --sklearn-color-border-box: var(--sg-text-color, var(--theme-code-foreground, var(--jp-content-font-color1, black)));\n",
       "  --sklearn-color-icon: #696969;\n",
       "\n",
       "  @media (prefers-color-scheme: dark) {\n",
       "    /* Redefinition of color scheme for dark theme */\n",
       "    --sklearn-color-text-on-default-background: var(--sg-text-color, var(--theme-code-foreground, var(--jp-content-font-color1, white)));\n",
       "    --sklearn-color-background: var(--sg-background-color, var(--theme-background, var(--jp-layout-color0, #111)));\n",
       "    --sklearn-color-border-box: var(--sg-text-color, var(--theme-code-foreground, var(--jp-content-font-color1, white)));\n",
       "    --sklearn-color-icon: #878787;\n",
       "  }\n",
       "}\n",
       "\n",
       "#sk-container-id-1 {\n",
       "  color: var(--sklearn-color-text);\n",
       "}\n",
       "\n",
       "#sk-container-id-1 pre {\n",
       "  padding: 0;\n",
       "}\n",
       "\n",
       "#sk-container-id-1 input.sk-hidden--visually {\n",
       "  border: 0;\n",
       "  clip: rect(1px 1px 1px 1px);\n",
       "  clip: rect(1px, 1px, 1px, 1px);\n",
       "  height: 1px;\n",
       "  margin: -1px;\n",
       "  overflow: hidden;\n",
       "  padding: 0;\n",
       "  position: absolute;\n",
       "  width: 1px;\n",
       "}\n",
       "\n",
       "#sk-container-id-1 div.sk-dashed-wrapped {\n",
       "  border: 1px dashed var(--sklearn-color-line);\n",
       "  margin: 0 0.4em 0.5em 0.4em;\n",
       "  box-sizing: border-box;\n",
       "  padding-bottom: 0.4em;\n",
       "  background-color: var(--sklearn-color-background);\n",
       "}\n",
       "\n",
       "#sk-container-id-1 div.sk-container {\n",
       "  /* jupyter's `normalize.less` sets `[hidden] { display: none; }`\n",
       "     but bootstrap.min.css set `[hidden] { display: none !important; }`\n",
       "     so we also need the `!important` here to be able to override the\n",
       "     default hidden behavior on the sphinx rendered scikit-learn.org.\n",
       "     See: https://github.com/scikit-learn/scikit-learn/issues/21755 */\n",
       "  display: inline-block !important;\n",
       "  position: relative;\n",
       "}\n",
       "\n",
       "#sk-container-id-1 div.sk-text-repr-fallback {\n",
       "  display: none;\n",
       "}\n",
       "\n",
       "div.sk-parallel-item,\n",
       "div.sk-serial,\n",
       "div.sk-item {\n",
       "  /* draw centered vertical line to link estimators */\n",
       "  background-image: linear-gradient(var(--sklearn-color-text-on-default-background), var(--sklearn-color-text-on-default-background));\n",
       "  background-size: 2px 100%;\n",
       "  background-repeat: no-repeat;\n",
       "  background-position: center center;\n",
       "}\n",
       "\n",
       "/* Parallel-specific style estimator block */\n",
       "\n",
       "#sk-container-id-1 div.sk-parallel-item::after {\n",
       "  content: \"\";\n",
       "  width: 100%;\n",
       "  border-bottom: 2px solid var(--sklearn-color-text-on-default-background);\n",
       "  flex-grow: 1;\n",
       "}\n",
       "\n",
       "#sk-container-id-1 div.sk-parallel {\n",
       "  display: flex;\n",
       "  align-items: stretch;\n",
       "  justify-content: center;\n",
       "  background-color: var(--sklearn-color-background);\n",
       "  position: relative;\n",
       "}\n",
       "\n",
       "#sk-container-id-1 div.sk-parallel-item {\n",
       "  display: flex;\n",
       "  flex-direction: column;\n",
       "}\n",
       "\n",
       "#sk-container-id-1 div.sk-parallel-item:first-child::after {\n",
       "  align-self: flex-end;\n",
       "  width: 50%;\n",
       "}\n",
       "\n",
       "#sk-container-id-1 div.sk-parallel-item:last-child::after {\n",
       "  align-self: flex-start;\n",
       "  width: 50%;\n",
       "}\n",
       "\n",
       "#sk-container-id-1 div.sk-parallel-item:only-child::after {\n",
       "  width: 0;\n",
       "}\n",
       "\n",
       "/* Serial-specific style estimator block */\n",
       "\n",
       "#sk-container-id-1 div.sk-serial {\n",
       "  display: flex;\n",
       "  flex-direction: column;\n",
       "  align-items: center;\n",
       "  background-color: var(--sklearn-color-background);\n",
       "  padding-right: 1em;\n",
       "  padding-left: 1em;\n",
       "}\n",
       "\n",
       "\n",
       "/* Toggleable style: style used for estimator/Pipeline/ColumnTransformer box that is\n",
       "clickable and can be expanded/collapsed.\n",
       "- Pipeline and ColumnTransformer use this feature and define the default style\n",
       "- Estimators will overwrite some part of the style using the `sk-estimator` class\n",
       "*/\n",
       "\n",
       "/* Pipeline and ColumnTransformer style (default) */\n",
       "\n",
       "#sk-container-id-1 div.sk-toggleable {\n",
       "  /* Default theme specific background. It is overwritten whether we have a\n",
       "  specific estimator or a Pipeline/ColumnTransformer */\n",
       "  background-color: var(--sklearn-color-background);\n",
       "}\n",
       "\n",
       "/* Toggleable label */\n",
       "#sk-container-id-1 label.sk-toggleable__label {\n",
       "  cursor: pointer;\n",
       "  display: block;\n",
       "  width: 100%;\n",
       "  margin-bottom: 0;\n",
       "  padding: 0.5em;\n",
       "  box-sizing: border-box;\n",
       "  text-align: center;\n",
       "}\n",
       "\n",
       "#sk-container-id-1 label.sk-toggleable__label-arrow:before {\n",
       "  /* Arrow on the left of the label */\n",
       "  content: \"▸\";\n",
       "  float: left;\n",
       "  margin-right: 0.25em;\n",
       "  color: var(--sklearn-color-icon);\n",
       "}\n",
       "\n",
       "#sk-container-id-1 label.sk-toggleable__label-arrow:hover:before {\n",
       "  color: var(--sklearn-color-text);\n",
       "}\n",
       "\n",
       "/* Toggleable content - dropdown */\n",
       "\n",
       "#sk-container-id-1 div.sk-toggleable__content {\n",
       "  max-height: 0;\n",
       "  max-width: 0;\n",
       "  overflow: hidden;\n",
       "  text-align: left;\n",
       "  /* unfitted */\n",
       "  background-color: var(--sklearn-color-unfitted-level-0);\n",
       "}\n",
       "\n",
       "#sk-container-id-1 div.sk-toggleable__content.fitted {\n",
       "  /* fitted */\n",
       "  background-color: var(--sklearn-color-fitted-level-0);\n",
       "}\n",
       "\n",
       "#sk-container-id-1 div.sk-toggleable__content pre {\n",
       "  margin: 0.2em;\n",
       "  border-radius: 0.25em;\n",
       "  color: var(--sklearn-color-text);\n",
       "  /* unfitted */\n",
       "  background-color: var(--sklearn-color-unfitted-level-0);\n",
       "}\n",
       "\n",
       "#sk-container-id-1 div.sk-toggleable__content.fitted pre {\n",
       "  /* unfitted */\n",
       "  background-color: var(--sklearn-color-fitted-level-0);\n",
       "}\n",
       "\n",
       "#sk-container-id-1 input.sk-toggleable__control:checked~div.sk-toggleable__content {\n",
       "  /* Expand drop-down */\n",
       "  max-height: 200px;\n",
       "  max-width: 100%;\n",
       "  overflow: auto;\n",
       "}\n",
       "\n",
       "#sk-container-id-1 input.sk-toggleable__control:checked~label.sk-toggleable__label-arrow:before {\n",
       "  content: \"▾\";\n",
       "}\n",
       "\n",
       "/* Pipeline/ColumnTransformer-specific style */\n",
       "\n",
       "#sk-container-id-1 div.sk-label input.sk-toggleable__control:checked~label.sk-toggleable__label {\n",
       "  color: var(--sklearn-color-text);\n",
       "  background-color: var(--sklearn-color-unfitted-level-2);\n",
       "}\n",
       "\n",
       "#sk-container-id-1 div.sk-label.fitted input.sk-toggleable__control:checked~label.sk-toggleable__label {\n",
       "  background-color: var(--sklearn-color-fitted-level-2);\n",
       "}\n",
       "\n",
       "/* Estimator-specific style */\n",
       "\n",
       "/* Colorize estimator box */\n",
       "#sk-container-id-1 div.sk-estimator input.sk-toggleable__control:checked~label.sk-toggleable__label {\n",
       "  /* unfitted */\n",
       "  background-color: var(--sklearn-color-unfitted-level-2);\n",
       "}\n",
       "\n",
       "#sk-container-id-1 div.sk-estimator.fitted input.sk-toggleable__control:checked~label.sk-toggleable__label {\n",
       "  /* fitted */\n",
       "  background-color: var(--sklearn-color-fitted-level-2);\n",
       "}\n",
       "\n",
       "#sk-container-id-1 div.sk-label label.sk-toggleable__label,\n",
       "#sk-container-id-1 div.sk-label label {\n",
       "  /* The background is the default theme color */\n",
       "  color: var(--sklearn-color-text-on-default-background);\n",
       "}\n",
       "\n",
       "/* On hover, darken the color of the background */\n",
       "#sk-container-id-1 div.sk-label:hover label.sk-toggleable__label {\n",
       "  color: var(--sklearn-color-text);\n",
       "  background-color: var(--sklearn-color-unfitted-level-2);\n",
       "}\n",
       "\n",
       "/* Label box, darken color on hover, fitted */\n",
       "#sk-container-id-1 div.sk-label.fitted:hover label.sk-toggleable__label.fitted {\n",
       "  color: var(--sklearn-color-text);\n",
       "  background-color: var(--sklearn-color-fitted-level-2);\n",
       "}\n",
       "\n",
       "/* Estimator label */\n",
       "\n",
       "#sk-container-id-1 div.sk-label label {\n",
       "  font-family: monospace;\n",
       "  font-weight: bold;\n",
       "  display: inline-block;\n",
       "  line-height: 1.2em;\n",
       "}\n",
       "\n",
       "#sk-container-id-1 div.sk-label-container {\n",
       "  text-align: center;\n",
       "}\n",
       "\n",
       "/* Estimator-specific */\n",
       "#sk-container-id-1 div.sk-estimator {\n",
       "  font-family: monospace;\n",
       "  border: 1px dotted var(--sklearn-color-border-box);\n",
       "  border-radius: 0.25em;\n",
       "  box-sizing: border-box;\n",
       "  margin-bottom: 0.5em;\n",
       "  /* unfitted */\n",
       "  background-color: var(--sklearn-color-unfitted-level-0);\n",
       "}\n",
       "\n",
       "#sk-container-id-1 div.sk-estimator.fitted {\n",
       "  /* fitted */\n",
       "  background-color: var(--sklearn-color-fitted-level-0);\n",
       "}\n",
       "\n",
       "/* on hover */\n",
       "#sk-container-id-1 div.sk-estimator:hover {\n",
       "  /* unfitted */\n",
       "  background-color: var(--sklearn-color-unfitted-level-2);\n",
       "}\n",
       "\n",
       "#sk-container-id-1 div.sk-estimator.fitted:hover {\n",
       "  /* fitted */\n",
       "  background-color: var(--sklearn-color-fitted-level-2);\n",
       "}\n",
       "\n",
       "/* Specification for estimator info (e.g. \"i\" and \"?\") */\n",
       "\n",
       "/* Common style for \"i\" and \"?\" */\n",
       "\n",
       ".sk-estimator-doc-link,\n",
       "a:link.sk-estimator-doc-link,\n",
       "a:visited.sk-estimator-doc-link {\n",
       "  float: right;\n",
       "  font-size: smaller;\n",
       "  line-height: 1em;\n",
       "  font-family: monospace;\n",
       "  background-color: var(--sklearn-color-background);\n",
       "  border-radius: 1em;\n",
       "  height: 1em;\n",
       "  width: 1em;\n",
       "  text-decoration: none !important;\n",
       "  margin-left: 1ex;\n",
       "  /* unfitted */\n",
       "  border: var(--sklearn-color-unfitted-level-1) 1pt solid;\n",
       "  color: var(--sklearn-color-unfitted-level-1);\n",
       "}\n",
       "\n",
       ".sk-estimator-doc-link.fitted,\n",
       "a:link.sk-estimator-doc-link.fitted,\n",
       "a:visited.sk-estimator-doc-link.fitted {\n",
       "  /* fitted */\n",
       "  border: var(--sklearn-color-fitted-level-1) 1pt solid;\n",
       "  color: var(--sklearn-color-fitted-level-1);\n",
       "}\n",
       "\n",
       "/* On hover */\n",
       "div.sk-estimator:hover .sk-estimator-doc-link:hover,\n",
       ".sk-estimator-doc-link:hover,\n",
       "div.sk-label-container:hover .sk-estimator-doc-link:hover,\n",
       ".sk-estimator-doc-link:hover {\n",
       "  /* unfitted */\n",
       "  background-color: var(--sklearn-color-unfitted-level-3);\n",
       "  color: var(--sklearn-color-background);\n",
       "  text-decoration: none;\n",
       "}\n",
       "\n",
       "div.sk-estimator.fitted:hover .sk-estimator-doc-link.fitted:hover,\n",
       ".sk-estimator-doc-link.fitted:hover,\n",
       "div.sk-label-container:hover .sk-estimator-doc-link.fitted:hover,\n",
       ".sk-estimator-doc-link.fitted:hover {\n",
       "  /* fitted */\n",
       "  background-color: var(--sklearn-color-fitted-level-3);\n",
       "  color: var(--sklearn-color-background);\n",
       "  text-decoration: none;\n",
       "}\n",
       "\n",
       "/* Span, style for the box shown on hovering the info icon */\n",
       ".sk-estimator-doc-link span {\n",
       "  display: none;\n",
       "  z-index: 9999;\n",
       "  position: relative;\n",
       "  font-weight: normal;\n",
       "  right: .2ex;\n",
       "  padding: .5ex;\n",
       "  margin: .5ex;\n",
       "  width: min-content;\n",
       "  min-width: 20ex;\n",
       "  max-width: 50ex;\n",
       "  color: var(--sklearn-color-text);\n",
       "  box-shadow: 2pt 2pt 4pt #999;\n",
       "  /* unfitted */\n",
       "  background: var(--sklearn-color-unfitted-level-0);\n",
       "  border: .5pt solid var(--sklearn-color-unfitted-level-3);\n",
       "}\n",
       "\n",
       ".sk-estimator-doc-link.fitted span {\n",
       "  /* fitted */\n",
       "  background: var(--sklearn-color-fitted-level-0);\n",
       "  border: var(--sklearn-color-fitted-level-3);\n",
       "}\n",
       "\n",
       ".sk-estimator-doc-link:hover span {\n",
       "  display: block;\n",
       "}\n",
       "\n",
       "/* \"?\"-specific style due to the `<a>` HTML tag */\n",
       "\n",
       "#sk-container-id-1 a.estimator_doc_link {\n",
       "  float: right;\n",
       "  font-size: 1rem;\n",
       "  line-height: 1em;\n",
       "  font-family: monospace;\n",
       "  background-color: var(--sklearn-color-background);\n",
       "  border-radius: 1rem;\n",
       "  height: 1rem;\n",
       "  width: 1rem;\n",
       "  text-decoration: none;\n",
       "  /* unfitted */\n",
       "  color: var(--sklearn-color-unfitted-level-1);\n",
       "  border: var(--sklearn-color-unfitted-level-1) 1pt solid;\n",
       "}\n",
       "\n",
       "#sk-container-id-1 a.estimator_doc_link.fitted {\n",
       "  /* fitted */\n",
       "  border: var(--sklearn-color-fitted-level-1) 1pt solid;\n",
       "  color: var(--sklearn-color-fitted-level-1);\n",
       "}\n",
       "\n",
       "/* On hover */\n",
       "#sk-container-id-1 a.estimator_doc_link:hover {\n",
       "  /* unfitted */\n",
       "  background-color: var(--sklearn-color-unfitted-level-3);\n",
       "  color: var(--sklearn-color-background);\n",
       "  text-decoration: none;\n",
       "}\n",
       "\n",
       "#sk-container-id-1 a.estimator_doc_link.fitted:hover {\n",
       "  /* fitted */\n",
       "  background-color: var(--sklearn-color-fitted-level-3);\n",
       "}\n",
       "</style><div id=\"sk-container-id-1\" class=\"sk-top-container\"><div class=\"sk-text-repr-fallback\"><pre>Pipeline(steps=[(&#x27;preprocessor&#x27;,\n",
       "                 ColumnTransformer(remainder=&#x27;passthrough&#x27;,\n",
       "                                   transformers=[(&#x27;num&#x27;, StandardScaler(),\n",
       "                                                  Index([&#x27;duration_ms&#x27;, &#x27;explicit&#x27;, &#x27;danceability&#x27;, &#x27;energy&#x27;, &#x27;mode&#x27;,\n",
       "       &#x27;speechiness&#x27;, &#x27;acousticness&#x27;, &#x27;instrumentalness&#x27;, &#x27;liveness&#x27;,\n",
       "       &#x27;valence&#x27;, &#x27;multi_genre&#x27;, &#x27;loudness_new&#x27;, &#x27;intens&#x27;],\n",
       "      dtype=&#x27;object&#x27;)),\n",
       "                                                 (&#x27;track_genre&#x27;,\n",
       "                                                  FunctionTransformer(func=&lt;function binarize_genres at 0x000002B5020DA340&gt;),\n",
       "                                                  &#x27;track_genre&#x27;),\n",
       "                                                 (&#x27;ohe&#x27;,\n",
       "                                                  OneHotEncoder(handle_unknown=&#x27;ignore&#x27;),\n",
       "                                                  [&#x27;artists&#x27;, &#x27;album_name&#x27;,\n",
       "                                                   &#x27;track_name&#x27;])])),\n",
       "                (&#x27;model&#x27;, DecisionTreeRegressor(max_depth=5))])</pre><b>In a Jupyter environment, please rerun this cell to show the HTML representation or trust the notebook. <br />On GitHub, the HTML representation is unable to render, please try loading this page with nbviewer.org.</b></div><div class=\"sk-container\" hidden><div class=\"sk-item sk-dashed-wrapped\"><div class=\"sk-label-container\"><div class=\"sk-label  sk-toggleable\"><input class=\"sk-toggleable__control sk-hidden--visually\" id=\"sk-estimator-id-1\" type=\"checkbox\" ><label for=\"sk-estimator-id-1\" class=\"sk-toggleable__label  sk-toggleable__label-arrow \">&nbsp;&nbsp;Pipeline<a class=\"sk-estimator-doc-link \" rel=\"noreferrer\" target=\"_blank\" href=\"https://scikit-learn.org/1.5/modules/generated/sklearn.pipeline.Pipeline.html\">?<span>Documentation for Pipeline</span></a><span class=\"sk-estimator-doc-link \">i<span>Not fitted</span></span></label><div class=\"sk-toggleable__content \"><pre>Pipeline(steps=[(&#x27;preprocessor&#x27;,\n",
       "                 ColumnTransformer(remainder=&#x27;passthrough&#x27;,\n",
       "                                   transformers=[(&#x27;num&#x27;, StandardScaler(),\n",
       "                                                  Index([&#x27;duration_ms&#x27;, &#x27;explicit&#x27;, &#x27;danceability&#x27;, &#x27;energy&#x27;, &#x27;mode&#x27;,\n",
       "       &#x27;speechiness&#x27;, &#x27;acousticness&#x27;, &#x27;instrumentalness&#x27;, &#x27;liveness&#x27;,\n",
       "       &#x27;valence&#x27;, &#x27;multi_genre&#x27;, &#x27;loudness_new&#x27;, &#x27;intens&#x27;],\n",
       "      dtype=&#x27;object&#x27;)),\n",
       "                                                 (&#x27;track_genre&#x27;,\n",
       "                                                  FunctionTransformer(func=&lt;function binarize_genres at 0x000002B5020DA340&gt;),\n",
       "                                                  &#x27;track_genre&#x27;),\n",
       "                                                 (&#x27;ohe&#x27;,\n",
       "                                                  OneHotEncoder(handle_unknown=&#x27;ignore&#x27;),\n",
       "                                                  [&#x27;artists&#x27;, &#x27;album_name&#x27;,\n",
       "                                                   &#x27;track_name&#x27;])])),\n",
       "                (&#x27;model&#x27;, DecisionTreeRegressor(max_depth=5))])</pre></div> </div></div><div class=\"sk-serial\"><div class=\"sk-item sk-dashed-wrapped\"><div class=\"sk-label-container\"><div class=\"sk-label  sk-toggleable\"><input class=\"sk-toggleable__control sk-hidden--visually\" id=\"sk-estimator-id-2\" type=\"checkbox\" ><label for=\"sk-estimator-id-2\" class=\"sk-toggleable__label  sk-toggleable__label-arrow \">&nbsp;preprocessor: ColumnTransformer<a class=\"sk-estimator-doc-link \" rel=\"noreferrer\" target=\"_blank\" href=\"https://scikit-learn.org/1.5/modules/generated/sklearn.compose.ColumnTransformer.html\">?<span>Documentation for preprocessor: ColumnTransformer</span></a></label><div class=\"sk-toggleable__content \"><pre>ColumnTransformer(remainder=&#x27;passthrough&#x27;,\n",
       "                  transformers=[(&#x27;num&#x27;, StandardScaler(),\n",
       "                                 Index([&#x27;duration_ms&#x27;, &#x27;explicit&#x27;, &#x27;danceability&#x27;, &#x27;energy&#x27;, &#x27;mode&#x27;,\n",
       "       &#x27;speechiness&#x27;, &#x27;acousticness&#x27;, &#x27;instrumentalness&#x27;, &#x27;liveness&#x27;,\n",
       "       &#x27;valence&#x27;, &#x27;multi_genre&#x27;, &#x27;loudness_new&#x27;, &#x27;intens&#x27;],\n",
       "      dtype=&#x27;object&#x27;)),\n",
       "                                (&#x27;track_genre&#x27;,\n",
       "                                 FunctionTransformer(func=&lt;function binarize_genres at 0x000002B5020DA340&gt;),\n",
       "                                 &#x27;track_genre&#x27;),\n",
       "                                (&#x27;ohe&#x27;, OneHotEncoder(handle_unknown=&#x27;ignore&#x27;),\n",
       "                                 [&#x27;artists&#x27;, &#x27;album_name&#x27;, &#x27;track_name&#x27;])])</pre></div> </div></div><div class=\"sk-parallel\"><div class=\"sk-parallel-item\"><div class=\"sk-item\"><div class=\"sk-label-container\"><div class=\"sk-label  sk-toggleable\"><input class=\"sk-toggleable__control sk-hidden--visually\" id=\"sk-estimator-id-3\" type=\"checkbox\" ><label for=\"sk-estimator-id-3\" class=\"sk-toggleable__label  sk-toggleable__label-arrow \">num</label><div class=\"sk-toggleable__content \"><pre>Index([&#x27;duration_ms&#x27;, &#x27;explicit&#x27;, &#x27;danceability&#x27;, &#x27;energy&#x27;, &#x27;mode&#x27;,\n",
       "       &#x27;speechiness&#x27;, &#x27;acousticness&#x27;, &#x27;instrumentalness&#x27;, &#x27;liveness&#x27;,\n",
       "       &#x27;valence&#x27;, &#x27;multi_genre&#x27;, &#x27;loudness_new&#x27;, &#x27;intens&#x27;],\n",
       "      dtype=&#x27;object&#x27;)</pre></div> </div></div><div class=\"sk-serial\"><div class=\"sk-item\"><div class=\"sk-estimator  sk-toggleable\"><input class=\"sk-toggleable__control sk-hidden--visually\" id=\"sk-estimator-id-4\" type=\"checkbox\" ><label for=\"sk-estimator-id-4\" class=\"sk-toggleable__label  sk-toggleable__label-arrow \">&nbsp;StandardScaler<a class=\"sk-estimator-doc-link \" rel=\"noreferrer\" target=\"_blank\" href=\"https://scikit-learn.org/1.5/modules/generated/sklearn.preprocessing.StandardScaler.html\">?<span>Documentation for StandardScaler</span></a></label><div class=\"sk-toggleable__content \"><pre>StandardScaler()</pre></div> </div></div></div></div></div><div class=\"sk-parallel-item\"><div class=\"sk-item\"><div class=\"sk-label-container\"><div class=\"sk-label  sk-toggleable\"><input class=\"sk-toggleable__control sk-hidden--visually\" id=\"sk-estimator-id-5\" type=\"checkbox\" ><label for=\"sk-estimator-id-5\" class=\"sk-toggleable__label  sk-toggleable__label-arrow \">track_genre</label><div class=\"sk-toggleable__content \"><pre>track_genre</pre></div> </div></div><div class=\"sk-serial\"><div class=\"sk-item\"><div class=\"sk-estimator  sk-toggleable\"><input class=\"sk-toggleable__control sk-hidden--visually\" id=\"sk-estimator-id-6\" type=\"checkbox\" ><label for=\"sk-estimator-id-6\" class=\"sk-toggleable__label  sk-toggleable__label-arrow \">&nbsp;FunctionTransformer<a class=\"sk-estimator-doc-link \" rel=\"noreferrer\" target=\"_blank\" href=\"https://scikit-learn.org/1.5/modules/generated/sklearn.preprocessing.FunctionTransformer.html\">?<span>Documentation for FunctionTransformer</span></a></label><div class=\"sk-toggleable__content \"><pre>FunctionTransformer(func=&lt;function binarize_genres at 0x000002B5020DA340&gt;)</pre></div> </div></div></div></div></div><div class=\"sk-parallel-item\"><div class=\"sk-item\"><div class=\"sk-label-container\"><div class=\"sk-label  sk-toggleable\"><input class=\"sk-toggleable__control sk-hidden--visually\" id=\"sk-estimator-id-7\" type=\"checkbox\" ><label for=\"sk-estimator-id-7\" class=\"sk-toggleable__label  sk-toggleable__label-arrow \">ohe</label><div class=\"sk-toggleable__content \"><pre>[&#x27;artists&#x27;, &#x27;album_name&#x27;, &#x27;track_name&#x27;]</pre></div> </div></div><div class=\"sk-serial\"><div class=\"sk-item\"><div class=\"sk-estimator  sk-toggleable\"><input class=\"sk-toggleable__control sk-hidden--visually\" id=\"sk-estimator-id-8\" type=\"checkbox\" ><label for=\"sk-estimator-id-8\" class=\"sk-toggleable__label  sk-toggleable__label-arrow \">&nbsp;OneHotEncoder<a class=\"sk-estimator-doc-link \" rel=\"noreferrer\" target=\"_blank\" href=\"https://scikit-learn.org/1.5/modules/generated/sklearn.preprocessing.OneHotEncoder.html\">?<span>Documentation for OneHotEncoder</span></a></label><div class=\"sk-toggleable__content \"><pre>OneHotEncoder(handle_unknown=&#x27;ignore&#x27;)</pre></div> </div></div></div></div></div><div class=\"sk-parallel-item\"><div class=\"sk-item\"><div class=\"sk-label-container\"><div class=\"sk-label  sk-toggleable\"><input class=\"sk-toggleable__control sk-hidden--visually\" id=\"sk-estimator-id-9\" type=\"checkbox\" ><label for=\"sk-estimator-id-9\" class=\"sk-toggleable__label  sk-toggleable__label-arrow \">remainder</label><div class=\"sk-toggleable__content \"><pre></pre></div> </div></div><div class=\"sk-serial\"><div class=\"sk-item\"><div class=\"sk-estimator  sk-toggleable\"><input class=\"sk-toggleable__control sk-hidden--visually\" id=\"sk-estimator-id-10\" type=\"checkbox\" ><label for=\"sk-estimator-id-10\" class=\"sk-toggleable__label  sk-toggleable__label-arrow \">passthrough</label><div class=\"sk-toggleable__content \"><pre>passthrough</pre></div> </div></div></div></div></div></div></div><div class=\"sk-item\"><div class=\"sk-estimator  sk-toggleable\"><input class=\"sk-toggleable__control sk-hidden--visually\" id=\"sk-estimator-id-11\" type=\"checkbox\" ><label for=\"sk-estimator-id-11\" class=\"sk-toggleable__label  sk-toggleable__label-arrow \">&nbsp;DecisionTreeRegressor<a class=\"sk-estimator-doc-link \" rel=\"noreferrer\" target=\"_blank\" href=\"https://scikit-learn.org/1.5/modules/generated/sklearn.tree.DecisionTreeRegressor.html\">?<span>Documentation for DecisionTreeRegressor</span></a></label><div class=\"sk-toggleable__content \"><pre>DecisionTreeRegressor(max_depth=5)</pre></div> </div></div></div></div></div></div>"
      ],
      "text/plain": [
       "Pipeline(steps=[('preprocessor',\n",
       "                 ColumnTransformer(remainder='passthrough',\n",
       "                                   transformers=[('num', StandardScaler(),\n",
       "                                                  Index(['duration_ms', 'explicit', 'danceability', 'energy', 'mode',\n",
       "       'speechiness', 'acousticness', 'instrumentalness', 'liveness',\n",
       "       'valence', 'multi_genre', 'loudness_new', 'intens'],\n",
       "      dtype='object')),\n",
       "                                                 ('track_genre',\n",
       "                                                  FunctionTransformer(func=<function binarize_genres at 0x000002B5020DA340>),\n",
       "                                                  'track_genre'),\n",
       "                                                 ('ohe',\n",
       "                                                  OneHotEncoder(handle_unknown='ignore'),\n",
       "                                                  ['artists', 'album_name',\n",
       "                                                   'track_name'])])),\n",
       "                ('model', DecisionTreeRegressor(max_depth=5))])"
      ]
     },
     "execution_count": 111,
     "metadata": {},
     "output_type": "execute_result"
    }
   ],
   "source": [
    "pipeline.set_params(model__max_depth=5)  # Set max_depth for DecisionTreeRegressor"
   ]
  },
  {
   "cell_type": "markdown",
   "metadata": {},
   "source": [
    "<div class=\"alert alert-success\">\n",
    "Количественные данные масштабировали с помощью  StandardScaler, категориальные - OneHotEncoder, а массив меток -  MultiLabelBinarizer. Теперь обучаем 4 модели: \n",
    "    \n",
    "    - линейную регрессию\n",
    "    \n",
    "    - модель градиентного бустинга\n",
    "    \n",
    "    - дерево решений\n",
    "    \n",
    "    - нейронную сеть\n",
    "\n",
    "После обучения каждой модели запомним их метрики для дальнейшего анализа.\n",
    "</div>"
   ]
  },
  {
   "cell_type": "markdown",
   "metadata": {},
   "source": [
    "`LinearRegression`"
   ]
  },
  {
   "cell_type": "code",
   "execution_count": 114,
   "metadata": {},
   "outputs": [],
   "source": [
    "param_grid_1 = [\n",
    "    {\n",
    "        'model': [LinearRegression()]\n",
    "    }\n",
    "]"
   ]
  },
  {
   "cell_type": "code",
   "execution_count": 115,
   "metadata": {},
   "outputs": [],
   "source": [
    "rs_1 = RandomizedSearchCV(\n",
    "    pipeline, \n",
    "    param_distributions=param_grid_1, \n",
    "    cv=5,\n",
    "    scoring='neg_mean_absolute_error',\n",
    "    n_jobs=-1,\n",
    "    random_state = 42\n",
    ")"
   ]
  },
  {
   "cell_type": "code",
   "execution_count": 116,
   "metadata": {},
   "outputs": [
    {
     "name": "stdout",
     "output_type": "stream",
     "text": [
      "Index(['artists', 'album_name', 'track_name', 'duration_ms', 'explicit',\n",
      "       'danceability', 'energy', 'mode', 'speechiness', 'acousticness',\n",
      "       'instrumentalness', 'liveness', 'valence', 'track_genre', 'multi_genre',\n",
      "       'loudness_new', 'intens'],\n",
      "      dtype='object')\n",
      "Index(['duration_ms', 'explicit', 'danceability', 'energy', 'mode',\n",
      "       'speechiness', 'acousticness', 'instrumentalness', 'liveness',\n",
      "       'valence', 'multi_genre', 'loudness_new', 'intens'],\n",
      "      dtype='object')\n",
      "['artists', 'album_name', 'track_name']\n",
      "['track_genre']\n"
     ]
    }
   ],
   "source": [
    "print(X_train.columns)\n",
    "print(num_columns)\n",
    "print(ohe_columns)\n",
    "print(mlb_columns)"
   ]
  },
  {
   "cell_type": "code",
   "execution_count": 117,
   "metadata": {},
   "outputs": [],
   "source": [
    "start_time_1 = time.time()\n",
    "rs_1.fit(X_train, y_train)\n",
    "end_time_1 = time.time()\n",
    "gs_time_1 = end_time_1 - start_time_1"
   ]
  },
  {
   "cell_type": "code",
   "execution_count": 118,
   "metadata": {},
   "outputs": [],
   "source": [
    "y_pred_1 = rs_1.predict(X_test)"
   ]
  },
  {
   "cell_type": "code",
   "execution_count": 119,
   "metadata": {},
   "outputs": [],
   "source": [
    "mae_1 = mean_absolute_error(y_test, y_pred_1)\n",
    "mse_1 = mean_squared_error(y_test, y_pred_1)\n",
    "r2_1 = r2_score(y_test, y_pred_1)\n",
    "rmse_1 = mse_1 ** 0.5"
   ]
  },
  {
   "cell_type": "markdown",
   "metadata": {},
   "source": [
    "`GradientBoostingRegressor`"
   ]
  },
  {
   "cell_type": "code",
   "execution_count": 121,
   "metadata": {},
   "outputs": [],
   "source": [
    "param_grid_2 = [\n",
    "    {\n",
    "        'model': [GradientBoostingRegressor()],\n",
    "        'model__max_depth': [3, 5, 7]\n",
    "    }\n",
    "]"
   ]
  },
  {
   "cell_type": "code",
   "execution_count": 122,
   "metadata": {},
   "outputs": [],
   "source": [
    "rs_2 = RandomizedSearchCV(\n",
    "    pipeline, \n",
    "    param_distributions=param_grid_2, \n",
    "    cv=5,\n",
    "    scoring='neg_mean_absolute_error',\n",
    "    n_jobs=-1,\n",
    "    random_state = RANDOM_STATE\n",
    ")"
   ]
  },
  {
   "cell_type": "code",
   "execution_count": 123,
   "metadata": {},
   "outputs": [],
   "source": [
    "start_time_2 = time.time()\n",
    "rs_2.fit(X_train, y_train)\n",
    "end_time_2 = time.time()\n",
    "gs_time_2 = end_time_2 - start_time_2"
   ]
  },
  {
   "cell_type": "code",
   "execution_count": 124,
   "metadata": {},
   "outputs": [],
   "source": [
    "y_pred_2 = rs_2.predict(X_test)"
   ]
  },
  {
   "cell_type": "code",
   "execution_count": 125,
   "metadata": {},
   "outputs": [],
   "source": [
    "mae_2 = mean_absolute_error(y_test, y_pred_2)\n",
    "mse_2 = mean_squared_error(y_test, y_pred_2)\n",
    "r2_2 = r2_score(y_test, y_pred_2)\n",
    "rmse_2 = mse_2 ** 0.5"
   ]
  },
  {
   "cell_type": "markdown",
   "metadata": {},
   "source": [
    "`DecisionTreeRegressor`"
   ]
  },
  {
   "cell_type": "code",
   "execution_count": 127,
   "metadata": {},
   "outputs": [],
   "source": [
    "param_grid_3 = [\n",
    "    {\n",
    "        'model': [DecisionTreeRegressor(random_state = RANDOM_STATE)],\n",
    "        'model__max_depth': [None, 10, 20, 30],\n",
    "        'model__min_samples_split': [2, 5, 10],\n",
    "        'model__min_samples_leaf': [1, 2, 4]\n",
    "    }\n",
    "]"
   ]
  },
  {
   "cell_type": "code",
   "execution_count": 128,
   "metadata": {},
   "outputs": [],
   "source": [
    "rs_3 = RandomizedSearchCV(\n",
    "    pipeline, \n",
    "    param_grid_3, \n",
    "    cv=5,\n",
    "    scoring='neg_mean_absolute_error',\n",
    "    n_jobs=-1,\n",
    "    random_state = RANDOM_STATE\n",
    ")"
   ]
  },
  {
   "cell_type": "code",
   "execution_count": 129,
   "metadata": {},
   "outputs": [],
   "source": [
    "start_time_3 = time.time()\n",
    "rs_3.fit(X_train, y_train)\n",
    "end_time_3 = time.time()\n",
    "gs_time_3 = end_time_3 - start_time_3"
   ]
  },
  {
   "cell_type": "code",
   "execution_count": 130,
   "metadata": {},
   "outputs": [],
   "source": [
    "y_pred_3 = rs_3.predict(X_test)"
   ]
  },
  {
   "cell_type": "code",
   "execution_count": 131,
   "metadata": {},
   "outputs": [],
   "source": [
    "mae_3 = mean_absolute_error(y_test, y_pred_3)\n",
    "mse_3 = mean_squared_error(y_test, y_pred_3)\n",
    "r2_3 = r2_score(y_test, y_pred_3)\n",
    "rmse_3 = mse_3 ** 0.5"
   ]
  },
  {
   "cell_type": "markdown",
   "metadata": {},
   "source": [
    "`Keras`"
   ]
  },
  {
   "cell_type": "markdown",
   "metadata": {},
   "source": [
    "<div class=\"alert alert-success\">\n",
    "Для модели нейронной сети сначала создадим функцию create_mlp_model, которая определит многослойную нейронную сеть (MLP) с использованием Keras.  Создадим экземпляр KerasRegressor, который будет связывать модель с параметрами обучения. Затем предобработаем данные в data_preprocessor, узнаем размер преобработанной тренировочной выборки (размер нужен нам для функции mlp) и обучим модель.\n",
    "</div>"
   ]
  },
  {
   "cell_type": "code",
   "execution_count": 134,
   "metadata": {},
   "outputs": [],
   "source": [
    "from scikeras.wrappers import KerasRegressor\n",
    "from tensorflow import keras\n",
    "from tensorflow.keras import layers"
   ]
  },
  {
   "cell_type": "code",
   "execution_count": 135,
   "metadata": {},
   "outputs": [
    {
     "name": "stdout",
     "output_type": "stream",
     "text": [
      "Epoch 1/10\n",
      "\u001b[1m1810/1810\u001b[0m \u001b[32m━━━━━━━━━━━━━━━━━━━━\u001b[0m\u001b[37m\u001b[0m \u001b[1m155s\u001b[0m 85ms/step - loss: 496.0389 - val_loss: 136.9382\n",
      "Epoch 2/10\n",
      "\u001b[1m1810/1810\u001b[0m \u001b[32m━━━━━━━━━━━━━━━━━━━━\u001b[0m\u001b[37m\u001b[0m \u001b[1m154s\u001b[0m 85ms/step - loss: 76.3599 - val_loss: 112.0946\n",
      "Epoch 3/10\n",
      "\u001b[1m1810/1810\u001b[0m \u001b[32m━━━━━━━━━━━━━━━━━━━━\u001b[0m\u001b[37m\u001b[0m \u001b[1m154s\u001b[0m 85ms/step - loss: 31.2404 - val_loss: 101.5590\n",
      "Epoch 4/10\n",
      "\u001b[1m1810/1810\u001b[0m \u001b[32m━━━━━━━━━━━━━━━━━━━━\u001b[0m\u001b[37m\u001b[0m \u001b[1m154s\u001b[0m 85ms/step - loss: 18.0030 - val_loss: 98.1183\n",
      "Epoch 5/10\n",
      "\u001b[1m1810/1810\u001b[0m \u001b[32m━━━━━━━━━━━━━━━━━━━━\u001b[0m\u001b[37m\u001b[0m \u001b[1m153s\u001b[0m 85ms/step - loss: 13.9945 - val_loss: 95.7148\n",
      "Epoch 6/10\n",
      "\u001b[1m1810/1810\u001b[0m \u001b[32m━━━━━━━━━━━━━━━━━━━━\u001b[0m\u001b[37m\u001b[0m \u001b[1m155s\u001b[0m 86ms/step - loss: 11.5860 - val_loss: 93.9917\n",
      "Epoch 7/10\n",
      "\u001b[1m1810/1810\u001b[0m \u001b[32m━━━━━━━━━━━━━━━━━━━━\u001b[0m\u001b[37m\u001b[0m \u001b[1m155s\u001b[0m 86ms/step - loss: 9.0381 - val_loss: 93.6823\n",
      "Epoch 8/10\n",
      "\u001b[1m1810/1810\u001b[0m \u001b[32m━━━━━━━━━━━━━━━━━━━━\u001b[0m\u001b[37m\u001b[0m \u001b[1m155s\u001b[0m 86ms/step - loss: 7.7122 - val_loss: 93.5638\n",
      "Epoch 9/10\n",
      "\u001b[1m1810/1810\u001b[0m \u001b[32m━━━━━━━━━━━━━━━━━━━━\u001b[0m\u001b[37m\u001b[0m \u001b[1m155s\u001b[0m 86ms/step - loss: 6.6800 - val_loss: 93.5840\n",
      "Epoch 10/10\n",
      "\u001b[1m1810/1810\u001b[0m \u001b[32m━━━━━━━━━━━━━━━━━━━━\u001b[0m\u001b[37m\u001b[0m \u001b[1m155s\u001b[0m 85ms/step - loss: 5.4672 - val_loss: 92.6274\n",
      "\u001b[1m566/566\u001b[0m \u001b[32m━━━━━━━━━━━━━━━━━━━━\u001b[0m\u001b[37m\u001b[0m \u001b[1m4s\u001b[0m 8ms/step\n"
     ]
    }
   ],
   "source": [
    "def create_mlp_model(optimizer='adam', neurons=64):\n",
    "    model = keras.Sequential()\n",
    "    model.add(layers.Dense(neurons, activation='relu', input_shape=(127478,)))\n",
    "    model.add(layers.Dense(neurons, activation='relu'))\n",
    "    model.add(layers.Dense(1))\n",
    "    model.compile(optimizer=optimizer, loss='mean_squared_error')\n",
    "    return model\n",
    "\n",
    "    \n",
    "mlp_model = KerasRegressor(model=create_mlp_model, epochs=10, batch_size=32,validation_split=0.2)\n",
    "\n",
    "    \n",
    "data_preprocessor = ColumnTransformer(\n",
    "        transformers=[\n",
    "            ('num', StandardScaler(), num_columns),\n",
    "            ('track_genre', FunctionTransformer(binarize_genres, validate=False), 'track_genre'),\n",
    "            ('ohe', OneHotEncoder(handle_unknown='ignore', sparse_output=True), ohe_columns)\n",
    "                ],\n",
    "                remainder='passthrough'\n",
    "            )\n",
    "    \n",
    "rs_4 = Pipeline([\n",
    "            ('preprocessor', data_preprocessor),\n",
    "            ('model', mlp_model)\n",
    "])\n",
    "start_time_4 = time.time()\n",
    "rs_4.fit(X_train, y_train)\n",
    "end_time_4 = time.time()\n",
    "gs_time_4 = end_time_4 - start_time_4\n",
    "\n",
    "y_pred_4 = rs_4.predict(X_test)\n",
    "    \n",
    "mae_4 = mean_absolute_error(y_test, y_pred_4)\n",
    "    \n",
    "mse_4 = mean_squared_error(y_test, y_pred_4)\n",
    "    \n",
    "r2_4 = r2_score(y_test, y_pred_4)\n",
    "   \n",
    "rmse_4 = mse_4 ** 0.5"
   ]
  },
  {
   "cell_type": "code",
   "execution_count": 136,
   "metadata": {},
   "outputs": [],
   "source": [
    "from sklearn.model_selection import cross_val_score\n",
    "def cross_val(x_, y_):\n",
    "    def create_mlp_model(optimizer='adam', neurons=64):\n",
    "        model = keras.Sequential()\n",
    "        model.add(layers.Dense(neurons, activation='relu', input_shape=(106610,)))\n",
    "        model.add(layers.Dense(neurons, activation='relu'))\n",
    "        model.add(layers.Dense(1))\n",
    "        model.compile(optimizer=optimizer, loss='mean_squared_error')\n",
    "        return model\n",
    "\n",
    "    \n",
    "    mlp_model = KerasRegressor(model=create_mlp_model, epochs=10, batch_size=32,validation_split=0.2)\n",
    "\n",
    "    \n",
    "    data_preprocessor = ColumnTransformer(\n",
    "        transformers=[\n",
    "            ('num', StandardScaler(), num_columns),\n",
    "            ('track_genre', FunctionTransformer(binarize_genres, validate=False), 'track_genre'),\n",
    "            ('ohe', OneHotEncoder(handle_unknown='ignore', sparse_output=True), ohe_columns)\n",
    "                ],\n",
    "                remainder='passthrough'\n",
    "            )\n",
    "    \n",
    "    rs_4 = Pipeline([\n",
    "            ('preprocessor', data_preprocessor),\n",
    "            ('model', mlp_model)\n",
    "        ])\n",
    "    \n",
    "    return print(cross_val_score(rs_4, x_, y_, cv=5, scoring='neg_root_mean_squared_error'))"
   ]
  },
  {
   "cell_type": "markdown",
   "metadata": {},
   "source": [
    "<div class=\"alert alert-success\">\n",
    "Также написали функцию для кросс-валидации с метрикой RMSE с 5-ю фолдами.\n",
    "</div>"
   ]
  },
  {
   "cell_type": "markdown",
   "metadata": {},
   "source": [
    "# Шаг 6. Результаты обучения"
   ]
  },
  {
   "cell_type": "markdown",
   "metadata": {},
   "source": [
    "<div class=\"alert alert-success\">\n",
    "Все результаты занесем в таблицу results.\n",
    "</div>"
   ]
  },
  {
   "cell_type": "code",
   "execution_count": 140,
   "metadata": {},
   "outputs": [
    {
     "data": {
      "text/html": [
       "<div>\n",
       "<style scoped>\n",
       "    .dataframe tbody tr th:only-of-type {\n",
       "        vertical-align: middle;\n",
       "    }\n",
       "\n",
       "    .dataframe tbody tr th {\n",
       "        vertical-align: top;\n",
       "    }\n",
       "\n",
       "    .dataframe thead th {\n",
       "        text-align: right;\n",
       "    }\n",
       "</style>\n",
       "<table border=\"1\" class=\"dataframe\">\n",
       "  <thead>\n",
       "    <tr style=\"text-align: right;\">\n",
       "      <th></th>\n",
       "      <th>LinearRegression</th>\n",
       "      <th>GradientBoostingRegressor</th>\n",
       "      <th>DecisionTreeRegressor</th>\n",
       "      <th>Keras</th>\n",
       "    </tr>\n",
       "  </thead>\n",
       "  <tbody>\n",
       "    <tr>\n",
       "      <th>fit_time</th>\n",
       "      <td>86.953702</td>\n",
       "      <td>234.275157</td>\n",
       "      <td>164.532700</td>\n",
       "      <td>1547.496584</td>\n",
       "    </tr>\n",
       "    <tr>\n",
       "      <th>mae</th>\n",
       "      <td>8.663200</td>\n",
       "      <td>12.093863</td>\n",
       "      <td>8.629046</td>\n",
       "      <td>6.431129</td>\n",
       "    </tr>\n",
       "    <tr>\n",
       "      <th>mse</th>\n",
       "      <td>179.407826</td>\n",
       "      <td>247.003172</td>\n",
       "      <td>232.262984</td>\n",
       "      <td>91.486063</td>\n",
       "    </tr>\n",
       "    <tr>\n",
       "      <th>rmse</th>\n",
       "      <td>13.394321</td>\n",
       "      <td>15.716335</td>\n",
       "      <td>15.240177</td>\n",
       "      <td>9.564835</td>\n",
       "    </tr>\n",
       "    <tr>\n",
       "      <th>r2</th>\n",
       "      <td>0.571788</td>\n",
       "      <td>0.410450</td>\n",
       "      <td>0.445632</td>\n",
       "      <td>0.781640</td>\n",
       "    </tr>\n",
       "  </tbody>\n",
       "</table>\n",
       "</div>"
      ],
      "text/plain": [
       "          LinearRegression  GradientBoostingRegressor  DecisionTreeRegressor  \\\n",
       "fit_time         86.953702                 234.275157             164.532700   \n",
       "mae               8.663200                  12.093863               8.629046   \n",
       "mse             179.407826                 247.003172             232.262984   \n",
       "rmse             13.394321                  15.716335              15.240177   \n",
       "r2                0.571788                   0.410450               0.445632   \n",
       "\n",
       "                Keras  \n",
       "fit_time  1547.496584  \n",
       "mae          6.431129  \n",
       "mse         91.486063  \n",
       "rmse         9.564835  \n",
       "r2           0.781640  "
      ]
     },
     "execution_count": 140,
     "metadata": {},
     "output_type": "execute_result"
    }
   ],
   "source": [
    "results = pd.DataFrame({'LinearRegression': {'fit_time': gs_time_1,\n",
    "                                             'mae': mae_1,\n",
    "                                             'mse': mse_1,\n",
    "                                             'rmse': rmse_1,\n",
    "                                             'r2' : r2_1},\n",
    "                         'GradientBoostingRegressor': {'fit_time': gs_time_2,\n",
    "                                                   'mae': mae_2,\n",
    "                                                   'mse': mse_2,\n",
    "                                                   'rmse': rmse_2,\n",
    "                                                   'r2' : r2_2},\n",
    "                         'DecisionTreeRegressor': {'fit_time': gs_time_3,\n",
    "                                            'mae': mae_3,\n",
    "                                            'mse': mse_3,\n",
    "                                            'rmse': rmse_3,\n",
    "                                            'r2' : r2_3},\n",
    "                         'Keras': {'fit_time': gs_time_4,\n",
    "                                            'mae': mae_4,\n",
    "                                            'mse': mse_4,\n",
    "                                            'rmse': rmse_4,\n",
    "                                            'r2' : r2_4}})\n",
    "results"
   ]
  },
  {
   "cell_type": "markdown",
   "metadata": {},
   "source": [
    "<div class=\"alert alert-success\">\n",
    "    Наименьшее значение MAE продемонстрировала модель Keras (6.43), что указывает на её лучшую точность в предсказаниях по сравнению с другими моделями.\n",
    "    Модель Keras показала наименьшее значение MSE (91.4) и ,соотвественно, RMSE (9.5), что подтверждает её высокую точность. Наивысший R² (0.78) также у модели нейронной сети, что говорит о том, что она лучше всего объясняет вариацию зависимой переменной.\n",
    "\n",
    "    \n",
    "Модель Keras продемонстрировала наилучшие результаты по большинству метрик, что делает её предпочтительным выбором для данной задачи. Время ее обучения состовляет 1547 секунд.\n",
    "</div>"
   ]
  },
  {
   "cell_type": "code",
   "execution_count": 142,
   "metadata": {},
   "outputs": [],
   "source": [
    "from sklearn.dummy import DummyRegressor"
   ]
  },
  {
   "cell_type": "code",
   "execution_count": 143,
   "metadata": {},
   "outputs": [
    {
     "data": {
      "text/plain": [
       "6.431129246876022"
      ]
     },
     "execution_count": 143,
     "metadata": {},
     "output_type": "execute_result"
    }
   ],
   "source": [
    "test_mae = mean_absolute_error(y_test, y_pred_4)\n",
    "test_mae"
   ]
  },
  {
   "cell_type": "code",
   "execution_count": 144,
   "metadata": {},
   "outputs": [
    {
     "name": "stdout",
     "output_type": "stream",
     "text": [
      "Эта модель является адекватной по сравнению с DummyRegressor.\n"
     ]
    }
   ],
   "source": [
    "dummy_regr = DummyRegressor(strategy=\"mean\")\n",
    "dummy_regr.fit(X_train, y_train)\n",
    "dummy_pred = dummy_regr.predict(X_test)\n",
    "dummy_mae = mean_absolute_error(y_test, dummy_pred)\n",
    "\n",
    "if test_mae < dummy_mae:\n",
    "    print(\"Эта модель является адекватной по сравнению с DummyRegressor.\")\n",
    "else:\n",
    "    print(\"Эта модель является адекватной по сравнению с DummyRegressor.\")"
   ]
  },
  {
   "cell_type": "code",
   "execution_count": 145,
   "metadata": {},
   "outputs": [
    {
     "data": {
      "text/plain": [
       "17.185682035450125"
      ]
     },
     "execution_count": 145,
     "metadata": {},
     "output_type": "execute_result"
    }
   ],
   "source": [
    "dummy_mae"
   ]
  },
  {
   "cell_type": "markdown",
   "metadata": {},
   "source": [
    "<div class=\"alert alert-success\">\n",
    "    Проверили модель на адекватность с константной моделью. Модель оказалась адекватной по сравнению с DummyRegressor.\n",
    "</div>"
   ]
  },
  {
   "cell_type": "code",
   "execution_count": 147,
   "metadata": {},
   "outputs": [],
   "source": [
    "from sklearn.model_selection import cross_val_score"
   ]
  },
  {
   "cell_type": "code",
   "execution_count": 149,
   "metadata": {},
   "outputs": [
    {
     "name": "stdout",
     "output_type": "stream",
     "text": [
      "Epoch 1/10\n",
      "Epoch 1/10\n",
      "Epoch 1/10\n",
      "Epoch 1/10\n",
      "Epoch 1/10\n",
      "\u001b[1m1448/1448\u001b[0m \u001b[32m━━━━━━━━━━━━━━━━━━━━\u001b[0m\u001b[37m\u001b[0m \u001b[1m103s\u001b[0m 71ms/step - loss: 557.7831 - val_loss: 150.1400\n",
      "Epoch 2/10\n",
      "\u001b[1m1448/1448\u001b[0m \u001b[32m━━━━━━━━━━━━━━━━━━━━\u001b[0m\u001b[37m\u001b[0m \u001b[1m103s\u001b[0m 71ms/step - loss: 83.8701 - val_loss: 119.0492\n",
      "Epoch 3/10\n",
      "\u001b[1m1448/1448\u001b[0m \u001b[32m━━━━━━━━━━━━━━━━━━━━\u001b[0m\u001b[37m\u001b[0m \u001b[1m103s\u001b[0m 71ms/step - loss: 33.6410 - val_loss: 110.3168\n",
      "Epoch 4/10\n",
      "\u001b[1m1448/1448\u001b[0m \u001b[32m━━━━━━━━━━━━━━━━━━━━\u001b[0m\u001b[37m\u001b[0m \u001b[1m102s\u001b[0m 70ms/step - loss: 19.1806 - val_loss: 105.4663\n",
      "Epoch 5/10\n",
      "\u001b[1m1448/1448\u001b[0m \u001b[32m━━━━━━━━━━━━━━━━━━━━\u001b[0m\u001b[37m\u001b[0m \u001b[1m102s\u001b[0m 71ms/step - loss: 15.1083 - val_loss: 104.4984\n",
      "Epoch 6/10\n",
      "\u001b[1m1448/1448\u001b[0m \u001b[32m━━━━━━━━━━━━━━━━━━━━\u001b[0m\u001b[37m\u001b[0m \u001b[1m103s\u001b[0m 71ms/step - loss: 12.2015 - val_loss: 102.3769\n",
      "Epoch 7/10\n",
      "\u001b[1m1448/1448\u001b[0m \u001b[32m━━━━━━━━━━━━━━━━━━━━\u001b[0m\u001b[37m\u001b[0m \u001b[1m102s\u001b[0m 70ms/step - loss: 10.1229 - val_loss: 101.9406\n",
      "Epoch 8/10\n",
      "\u001b[1m1448/1448\u001b[0m \u001b[32m━━━━━━━━━━━━━━━━━━━━\u001b[0m\u001b[37m\u001b[0m \u001b[1m102s\u001b[0m 71ms/step - loss: 8.4801 - val_loss: 100.7047\n",
      "Epoch 9/10\n",
      "\u001b[1m1448/1448\u001b[0m \u001b[32m━━━━━━━━━━━━━━━━━━━━\u001b[0m\u001b[37m\u001b[0m \u001b[1m102s\u001b[0m 70ms/step - loss: 7.4164 - val_loss: 100.2542\n",
      "Epoch 10/10\n",
      "\u001b[1m1448/1448\u001b[0m \u001b[32m━━━━━━━━━━━━━━━━━━━━\u001b[0m\u001b[37m\u001b[0m \u001b[1m102s\u001b[0m 71ms/step - loss: 6.3954 - val_loss: 98.4645\n",
      "\u001b[1m453/453\u001b[0m \u001b[32m━━━━━━━━━━━━━━━━━━━━\u001b[0m\u001b[37m\u001b[0m \u001b[1m3s\u001b[0m 7ms/step\n",
      "[        nan         nan         nan         nan -9.99721418]\n"
     ]
    }
   ],
   "source": [
    "cross_val_keras = cross_val(X_train, y_train)\n",
    "cross_val_keras"
   ]
  },
  {
   "cell_type": "markdown",
   "metadata": {},
   "source": [
    "<div class=\"alert alert-success\">\n",
    "Сделали кросс валидацию и разделили данные на 5 фолдов, чтобы проверить модель на переобучение. Выяснили, что модель будет хорошо работать на новых данных, так как метрика RMSE на кросс валидации составила 9.\n",
    "</div>"
   ]
  },
  {
   "cell_type": "code",
   "execution_count": 157,
   "metadata": {},
   "outputs": [],
   "source": [
    "from matplotlib import rcParams"
   ]
  },
  {
   "cell_type": "code",
   "execution_count": 159,
   "metadata": {},
   "outputs": [
    {
     "data": {
      "image/png": "[encoded data removed]",
      "text/plain": [
       "<Figure size 1800x800 with 1 Axes>"
      ]
     },
     "metadata": {},
     "output_type": "display_data"
    }
   ],
   "source": [
    "rcParams['figure.figsize'] = 18, 8\n",
    "sns.lineplot(data=y_test, dashes=False)\n",
    "sns.lineplot(x=y_test.index, y=y_pred_4, dashes=False)\n",
    "plt.grid(True)\n",
    "plt.title('Сравнение наших данных и результатов прогнозирования лучшей модели')\n",
    "plt.show()"
   ]
  },
  {
   "cell_type": "markdown",
   "metadata": {},
   "source": [
    "<div class=\"alert alert-success\">\n",
    "    Сравнили на графике предсказания лучшей модели с нашими данными. Можно заметить, что наши данные, это проекция предсказаний модели, что хорошо показывает точность предсказаний. \n",
    "</div>"
   ]
  },
  {
   "cell_type": "markdown",
   "metadata": {},
   "source": [
    "# Шаг 7. Важность признаков "
   ]
  },
  {
   "cell_type": "code",
   "execution_count": 161,
   "metadata": {},
   "outputs": [],
   "source": [
    "from contextlib import redirect_stdout\n",
    "import os"
   ]
  },
  {
   "cell_type": "code",
   "execution_count": 163,
   "metadata": {},
   "outputs": [
    {
     "data": {
      "image/png": "[encoded data removed]",
      "text/plain": [
       "<Figure size 1000x600 with 1 Axes>"
      ]
     },
     "metadata": {},
     "output_type": "display_data"
    }
   ],
   "source": [
    "with open(os.devnull, 'w') as f, redirect_stdout(f):\n",
    "    result = permutation_importance(rs_4, X_test, y_test, n_repeats=10, random_state=42, scoring='neg_mean_absolute_error')\n",
    "\n",
    "importances = pd.Series(result.importances_mean, index=X.columns)\n",
    "\n",
    "# Визуализация важности признаков\n",
    "importances.sort_values().plot(kind='barh', figsize=(10, 6))\n",
    "plt.title('Важность признаков')\n",
    "plt.xlabel('Среднее уменьшение MAE')\n",
    "plt.show()"
   ]
  },
  {
   "cell_type": "markdown",
   "metadata": {},
   "source": [
    "<div class=\"alert alert-success\">\n",
    "Из графика важности признаков можно сказать, что для предсказания популярности песни стоит в приоритете жанр песни, затем идет название альбома, а потом имя исполнителя. Почти никакой роли не играют такие признаки, как \"позитивность\", \"режим\" и \"интенсивность\".\n",
    "</div>"
   ]
  },
  {
   "cell_type": "markdown",
   "metadata": {},
   "source": [
    "# Общие выводы"
   ]
  },
  {
   "cell_type": "markdown",
   "metadata": {},
   "source": [
    "    Модель нейронной сети Keras показала лучшие результаты в предсказании популярности песен. Она имеет более низкую ошибку и временные затраты на обучение.\n",
    "\n",
    "    Рекомендации для заказчика:\n",
    "\n",
    "     1. Продолжать использовать модель keras для прогнозирования популярности песен.\n",
    "\n",
    "     2. Добавить больше признаков, которые хорошо коррелируют с таргетом, для оптимизации модели и улучшения метрик.\n",
    "   \n",
    "     3. Обратить внимание на признаки, которые оказывают наибольшее влияние на популярность песен и уделить им особое внимание в процессе управления приложением.\n",
    "     \n",
    "     4. Провести дополнительный анализ и оптимизацию других факторов, таких как валентность, доли в такте, разговорность, наличие цензуры в треках, чтобы выявить их потенциальное влияние на популярность и возможность их оптимизации."
   ]
  }
 ],
 "metadata": {
  "kaggle": {
   "accelerator": "none",
   "dataSources": [
    {
     "datasetId": 5962750,
     "sourceId": 9741366,
     "sourceType": "datasetVersion"
    }
   ],
   "dockerImageVersionId": 30786,
   "isGpuEnabled": false,
   "isInternetEnabled": true,
   "language": "python",
   "sourceType": "notebook"
  },
  "kernelspec": {
   "display_name": "Python [conda env:base] *",
   "language": "python",
   "name": "conda-base-py"
  },
  "language_info": {
   "codemirror_mode": {
    "name": "ipython",
    "version": 3
   },
   "file_extension": ".py",
   "mimetype": "text/x-python",
   "name": "python",
   "nbconvert_exporter": "python",
   "pygments_lexer": "ipython3",
   "version": "3.12.7"
  }
 },
 "nbformat": 4,
 "nbformat_minor": 4
}
